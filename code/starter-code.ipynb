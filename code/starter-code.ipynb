{
 "cells": [
  {
   "cell_type": "markdown",
   "metadata": {},
   "source": [
    "# Project 1"
   ]
  },
  {
   "cell_type": "markdown",
   "metadata": {},
   "source": [
    "## Step 1: Load the data and perform basic operations."
   ]
  },
  {
   "cell_type": "markdown",
   "metadata": {},
   "source": [
    "##### 1. Load the data in using pandas."
   ]
  },
  {
   "cell_type": "code",
   "execution_count": 1,
   "metadata": {},
   "outputs": [],
   "source": [
    "import pandas as pd\n",
    "import numpy as np\n",
    "import seaborn as sns\n",
    "import scipy.stats as stats\n",
    "import matplotlib.pyplot as plt\n",
    "\n",
    "%matplotlib inline"
   ]
  },
  {
   "cell_type": "code",
   "execution_count": 2,
   "metadata": {},
   "outputs": [],
   "source": [
    "df_sat = pd.read_csv(\"/Users/blisspaik/notebooks/DSI-US-5/project-1/data/sat.csv\")\n",
    "df_act = pd.read_csv(\"/Users/blisspaik/notebooks/DSI-US-5/project-1/data/act.csv\")"
   ]
  },
  {
   "cell_type": "markdown",
   "metadata": {},
   "source": [
    "##### 2. Print the first ten rows of each dataframe."
   ]
  },
  {
   "cell_type": "code",
   "execution_count": 3,
   "metadata": {
    "scrolled": true
   },
   "outputs": [
    {
     "data": {
      "text/html": [
       "<div>\n",
       "<style scoped>\n",
       "    .dataframe tbody tr th:only-of-type {\n",
       "        vertical-align: middle;\n",
       "    }\n",
       "\n",
       "    .dataframe tbody tr th {\n",
       "        vertical-align: top;\n",
       "    }\n",
       "\n",
       "    .dataframe thead th {\n",
       "        text-align: right;\n",
       "    }\n",
       "</style>\n",
       "<table border=\"1\" class=\"dataframe\">\n",
       "  <thead>\n",
       "    <tr style=\"text-align: right;\">\n",
       "      <th></th>\n",
       "      <th>Unnamed: 0</th>\n",
       "      <th>State</th>\n",
       "      <th>Participation</th>\n",
       "      <th>Evidence-Based Reading and Writing</th>\n",
       "      <th>Math</th>\n",
       "      <th>Total</th>\n",
       "    </tr>\n",
       "  </thead>\n",
       "  <tbody>\n",
       "    <tr>\n",
       "      <th>0</th>\n",
       "      <td>0</td>\n",
       "      <td>Alabama</td>\n",
       "      <td>5%</td>\n",
       "      <td>593</td>\n",
       "      <td>572</td>\n",
       "      <td>1165</td>\n",
       "    </tr>\n",
       "    <tr>\n",
       "      <th>1</th>\n",
       "      <td>1</td>\n",
       "      <td>Alaska</td>\n",
       "      <td>38%</td>\n",
       "      <td>547</td>\n",
       "      <td>533</td>\n",
       "      <td>1080</td>\n",
       "    </tr>\n",
       "    <tr>\n",
       "      <th>2</th>\n",
       "      <td>2</td>\n",
       "      <td>Arizona</td>\n",
       "      <td>30%</td>\n",
       "      <td>563</td>\n",
       "      <td>553</td>\n",
       "      <td>1116</td>\n",
       "    </tr>\n",
       "    <tr>\n",
       "      <th>3</th>\n",
       "      <td>3</td>\n",
       "      <td>Arkansas</td>\n",
       "      <td>3%</td>\n",
       "      <td>614</td>\n",
       "      <td>594</td>\n",
       "      <td>1208</td>\n",
       "    </tr>\n",
       "    <tr>\n",
       "      <th>4</th>\n",
       "      <td>4</td>\n",
       "      <td>California</td>\n",
       "      <td>53%</td>\n",
       "      <td>531</td>\n",
       "      <td>524</td>\n",
       "      <td>1055</td>\n",
       "    </tr>\n",
       "  </tbody>\n",
       "</table>\n",
       "</div>"
      ],
      "text/plain": [
       "   Unnamed: 0       State Participation  Evidence-Based Reading and Writing  \\\n",
       "0           0     Alabama            5%                                 593   \n",
       "1           1      Alaska           38%                                 547   \n",
       "2           2     Arizona           30%                                 563   \n",
       "3           3    Arkansas            3%                                 614   \n",
       "4           4  California           53%                                 531   \n",
       "\n",
       "   Math  Total  \n",
       "0   572   1165  \n",
       "1   533   1080  \n",
       "2   553   1116  \n",
       "3   594   1208  \n",
       "4   524   1055  "
      ]
     },
     "execution_count": 3,
     "metadata": {},
     "output_type": "execute_result"
    }
   ],
   "source": [
    "df_sat.head()"
   ]
  },
  {
   "cell_type": "code",
   "execution_count": 4,
   "metadata": {
    "scrolled": false
   },
   "outputs": [
    {
     "data": {
      "text/html": [
       "<div>\n",
       "<style scoped>\n",
       "    .dataframe tbody tr th:only-of-type {\n",
       "        vertical-align: middle;\n",
       "    }\n",
       "\n",
       "    .dataframe tbody tr th {\n",
       "        vertical-align: top;\n",
       "    }\n",
       "\n",
       "    .dataframe thead th {\n",
       "        text-align: right;\n",
       "    }\n",
       "</style>\n",
       "<table border=\"1\" class=\"dataframe\">\n",
       "  <thead>\n",
       "    <tr style=\"text-align: right;\">\n",
       "      <th></th>\n",
       "      <th>Unnamed: 0</th>\n",
       "      <th>State</th>\n",
       "      <th>Participation</th>\n",
       "      <th>English</th>\n",
       "      <th>Math</th>\n",
       "      <th>Reading</th>\n",
       "      <th>Science</th>\n",
       "      <th>Composite</th>\n",
       "    </tr>\n",
       "  </thead>\n",
       "  <tbody>\n",
       "    <tr>\n",
       "      <th>0</th>\n",
       "      <td>0</td>\n",
       "      <td>National</td>\n",
       "      <td>60%</td>\n",
       "      <td>20.3</td>\n",
       "      <td>20.7</td>\n",
       "      <td>21.4</td>\n",
       "      <td>21.0</td>\n",
       "      <td>21.0</td>\n",
       "    </tr>\n",
       "    <tr>\n",
       "      <th>1</th>\n",
       "      <td>1</td>\n",
       "      <td>Alabama</td>\n",
       "      <td>100%</td>\n",
       "      <td>18.9</td>\n",
       "      <td>18.4</td>\n",
       "      <td>19.7</td>\n",
       "      <td>19.4</td>\n",
       "      <td>19.2</td>\n",
       "    </tr>\n",
       "    <tr>\n",
       "      <th>2</th>\n",
       "      <td>2</td>\n",
       "      <td>Alaska</td>\n",
       "      <td>65%</td>\n",
       "      <td>18.7</td>\n",
       "      <td>19.8</td>\n",
       "      <td>20.4</td>\n",
       "      <td>19.9</td>\n",
       "      <td>19.8</td>\n",
       "    </tr>\n",
       "    <tr>\n",
       "      <th>3</th>\n",
       "      <td>3</td>\n",
       "      <td>Arizona</td>\n",
       "      <td>62%</td>\n",
       "      <td>18.6</td>\n",
       "      <td>19.8</td>\n",
       "      <td>20.1</td>\n",
       "      <td>19.8</td>\n",
       "      <td>19.7</td>\n",
       "    </tr>\n",
       "    <tr>\n",
       "      <th>4</th>\n",
       "      <td>4</td>\n",
       "      <td>Arkansas</td>\n",
       "      <td>100%</td>\n",
       "      <td>18.9</td>\n",
       "      <td>19.0</td>\n",
       "      <td>19.7</td>\n",
       "      <td>19.5</td>\n",
       "      <td>19.4</td>\n",
       "    </tr>\n",
       "  </tbody>\n",
       "</table>\n",
       "</div>"
      ],
      "text/plain": [
       "   Unnamed: 0     State Participation  English  Math  Reading  Science  \\\n",
       "0           0  National           60%     20.3  20.7     21.4     21.0   \n",
       "1           1   Alabama          100%     18.9  18.4     19.7     19.4   \n",
       "2           2    Alaska           65%     18.7  19.8     20.4     19.9   \n",
       "3           3   Arizona           62%     18.6  19.8     20.1     19.8   \n",
       "4           4  Arkansas          100%     18.9  19.0     19.7     19.5   \n",
       "\n",
       "   Composite  \n",
       "0       21.0  \n",
       "1       19.2  \n",
       "2       19.8  \n",
       "3       19.7  \n",
       "4       19.4  "
      ]
     },
     "execution_count": 4,
     "metadata": {},
     "output_type": "execute_result"
    }
   ],
   "source": [
    "df_act.head()"
   ]
  },
  {
   "cell_type": "code",
   "execution_count": 5,
   "metadata": {},
   "outputs": [
    {
     "data": {
      "text/html": [
       "<div>\n",
       "<style scoped>\n",
       "    .dataframe tbody tr th:only-of-type {\n",
       "        vertical-align: middle;\n",
       "    }\n",
       "\n",
       "    .dataframe tbody tr th {\n",
       "        vertical-align: top;\n",
       "    }\n",
       "\n",
       "    .dataframe thead th {\n",
       "        text-align: right;\n",
       "    }\n",
       "</style>\n",
       "<table border=\"1\" class=\"dataframe\">\n",
       "  <thead>\n",
       "    <tr style=\"text-align: right;\">\n",
       "      <th></th>\n",
       "      <th>Unnamed: 0</th>\n",
       "      <th>State</th>\n",
       "      <th>Participation</th>\n",
       "      <th>English</th>\n",
       "      <th>Math</th>\n",
       "      <th>Reading</th>\n",
       "      <th>Science</th>\n",
       "      <th>Composite</th>\n",
       "    </tr>\n",
       "  </thead>\n",
       "  <tbody>\n",
       "    <tr>\n",
       "      <th>21</th>\n",
       "      <td>21</td>\n",
       "      <td>Maryland</td>\n",
       "      <td>28%</td>\n",
       "      <td>23.3</td>\n",
       "      <td>23.1</td>\n",
       "      <td>24.2</td>\n",
       "      <td>23.2</td>\n",
       "      <td>23.6</td>\n",
       "    </tr>\n",
       "  </tbody>\n",
       "</table>\n",
       "</div>"
      ],
      "text/plain": [
       "    Unnamed: 0     State Participation  English  Math  Reading  Science  \\\n",
       "21          21  Maryland           28%     23.3  23.1     24.2     23.2   \n",
       "\n",
       "    Composite  \n",
       "21       23.6  "
      ]
     },
     "execution_count": 5,
     "metadata": {},
     "output_type": "execute_result"
    }
   ],
   "source": [
    "df_act.loc[21, 'Science'] = 23.2\n",
    "df_act.loc[[21]]"
   ]
  },
  {
   "cell_type": "code",
   "execution_count": 6,
   "metadata": {
    "scrolled": true
   },
   "outputs": [
    {
     "data": {
      "text/html": [
       "<div>\n",
       "<style scoped>\n",
       "    .dataframe tbody tr th:only-of-type {\n",
       "        vertical-align: middle;\n",
       "    }\n",
       "\n",
       "    .dataframe tbody tr th {\n",
       "        vertical-align: top;\n",
       "    }\n",
       "\n",
       "    .dataframe thead th {\n",
       "        text-align: right;\n",
       "    }\n",
       "</style>\n",
       "<table border=\"1\" class=\"dataframe\">\n",
       "  <thead>\n",
       "    <tr style=\"text-align: right;\">\n",
       "      <th></th>\n",
       "      <th>Unnamed: 0</th>\n",
       "      <th>State</th>\n",
       "      <th>Participation</th>\n",
       "      <th>Evidence-Based Reading and Writing</th>\n",
       "      <th>Math</th>\n",
       "      <th>Total</th>\n",
       "    </tr>\n",
       "  </thead>\n",
       "  <tbody>\n",
       "    <tr>\n",
       "      <th>20</th>\n",
       "      <td>20</td>\n",
       "      <td>Maryland</td>\n",
       "      <td>69%</td>\n",
       "      <td>536</td>\n",
       "      <td>524</td>\n",
       "      <td>1060</td>\n",
       "    </tr>\n",
       "  </tbody>\n",
       "</table>\n",
       "</div>"
      ],
      "text/plain": [
       "    Unnamed: 0     State Participation  Evidence-Based Reading and Writing  \\\n",
       "20          20  Maryland           69%                                 536   \n",
       "\n",
       "    Math  Total  \n",
       "20   524   1060  "
      ]
     },
     "execution_count": 6,
     "metadata": {},
     "output_type": "execute_result"
    }
   ],
   "source": [
    "df_sat.loc[20, 'Math'] = 524\n",
    "df_sat.loc[[20]]"
   ]
  },
  {
   "cell_type": "markdown",
   "metadata": {},
   "source": [
    "##### 3. Describe in words what each variable (column) is."
   ]
  },
  {
   "cell_type": "markdown",
   "metadata": {
    "collapsed": true
   },
   "source": [
    "For the SAT dataframe:\n",
    "The first column is a numbering index for each state.\n",
    "The second column consists of the names of each state.\n",
    "The third column consists of participation rates in percentages.\n",
    "The fourth column consists of an average of reading and writing scores of all SAT takers in the state.\n",
    "The fifth column consists of an average of math scores of all SAT takers in the state.\n",
    "The last column is the total score of each section.\n",
    "\n",
    "For the ACT dataframe:\n",
    "The first column is a numbering index for each state.\n",
    "The second column consists of the names of each state.\n",
    "The third column consists of participation rates in percentages.\n",
    "The fourth column consists of an average of english scores of all SAT takers in the state.\n",
    "The fifth column consists of an average of math scores of all SAT takers in the state.\n",
    "The sixth column consists of an average of reading scores of all SAT takers in the state.\n",
    "The seventh column consists of an average of science scores of all SAT takers in the state.\n",
    "The last column is the composite, or average, score of all 4 sections. "
   ]
  },
  {
   "cell_type": "markdown",
   "metadata": {},
   "source": [
    "##### 4. Does the data look complete? Are there any obvious issues with the observations?"
   ]
  },
  {
   "cell_type": "markdown",
   "metadata": {
    "collapsed": true
   },
   "source": [
    "Yes, the data looks complete. \n",
    "There are no obvious issues with the observations."
   ]
  },
  {
   "cell_type": "markdown",
   "metadata": {},
   "source": [
    "##### 5. Print the types of each column."
   ]
  },
  {
   "cell_type": "code",
   "execution_count": 7,
   "metadata": {
    "scrolled": true
   },
   "outputs": [
    {
     "name": "stdout",
     "output_type": "stream",
     "text": [
      "Unnamed: 0                             int64\n",
      "State                                 object\n",
      "Participation                         object\n",
      "Evidence-Based Reading and Writing     int64\n",
      "Math                                   int64\n",
      "Total                                  int64\n",
      "dtype: object\n"
     ]
    }
   ],
   "source": [
    "print(df_sat.dtypes)"
   ]
  },
  {
   "cell_type": "code",
   "execution_count": 8,
   "metadata": {},
   "outputs": [
    {
     "name": "stdout",
     "output_type": "stream",
     "text": [
      "Unnamed: 0         int64\n",
      "State             object\n",
      "Participation     object\n",
      "English          float64\n",
      "Math             float64\n",
      "Reading          float64\n",
      "Science          float64\n",
      "Composite        float64\n",
      "dtype: object\n"
     ]
    }
   ],
   "source": [
    "print(df_act.dtypes)"
   ]
  },
  {
   "cell_type": "markdown",
   "metadata": {},
   "source": [
    "##### 6. Do any types need to be reassigned? If so, go ahead and do it."
   ]
  },
  {
   "cell_type": "markdown",
   "metadata": {},
   "source": [
    "Participation in both data frames should be reassigned to floats."
   ]
  },
  {
   "cell_type": "code",
   "execution_count": 9,
   "metadata": {},
   "outputs": [],
   "source": [
    "df_act.Participation = [i.strip('%') for i in df_act.Participation]\n",
    "df_act['Participation'] = df_act.Participation.astype(float) / 100\n",
    "df_sat.Participation = [i.strip('%') for i in df_sat.Participation]\n",
    "df_sat['Participation'] = df_sat.Participation.astype(float) / 100"
   ]
  },
  {
   "cell_type": "code",
   "execution_count": 10,
   "metadata": {
    "scrolled": true
   },
   "outputs": [
    {
     "data": {
      "text/plain": [
       "Unnamed: 0                              int64\n",
       "State                                  object\n",
       "Participation                         float64\n",
       "Evidence-Based Reading and Writing      int64\n",
       "Math                                    int64\n",
       "Total                                   int64\n",
       "dtype: object"
      ]
     },
     "execution_count": 10,
     "metadata": {},
     "output_type": "execute_result"
    }
   ],
   "source": [
    "df_sat.dtypes"
   ]
  },
  {
   "cell_type": "code",
   "execution_count": 11,
   "metadata": {
    "scrolled": true
   },
   "outputs": [
    {
     "data": {
      "text/plain": [
       "Unnamed: 0         int64\n",
       "State             object\n",
       "Participation    float64\n",
       "English          float64\n",
       "Math             float64\n",
       "Reading          float64\n",
       "Science          float64\n",
       "Composite        float64\n",
       "dtype: object"
      ]
     },
     "execution_count": 11,
     "metadata": {},
     "output_type": "execute_result"
    }
   ],
   "source": [
    "df_act.dtypes"
   ]
  },
  {
   "cell_type": "markdown",
   "metadata": {},
   "source": [
    "##### 7. Create a dictionary for each column mapping the State to its respective value for that column. (For example, you should have three SAT dictionaries.)"
   ]
  },
  {
   "cell_type": "code",
   "execution_count": 12,
   "metadata": {
    "scrolled": true
   },
   "outputs": [],
   "source": [
    "sat_dict = df_sat.set_index('State').to_dict()\n",
    "act_dict = df_act.set_index('State').to_dict()"
   ]
  },
  {
   "cell_type": "markdown",
   "metadata": {},
   "source": [
    "##### 8. Create one dictionary where each key is the column name, and each value is an iterable (a list or a Pandas Series) of all the values in that column."
   ]
  },
  {
   "cell_type": "code",
   "execution_count": 13,
   "metadata": {
    "scrolled": true
   },
   "outputs": [],
   "source": [
    "sat_dict1 = df_sat.to_dict('list')"
   ]
  },
  {
   "cell_type": "code",
   "execution_count": 14,
   "metadata": {},
   "outputs": [],
   "source": [
    "act_dict1 = df_act.to_dict('list')"
   ]
  },
  {
   "cell_type": "markdown",
   "metadata": {},
   "source": [
    "##### 9. Merge the dataframes on the state column."
   ]
  },
  {
   "cell_type": "code",
   "execution_count": 15,
   "metadata": {},
   "outputs": [],
   "source": [
    "merged_df = pd.merge(df_sat, df_act, left_on='State', right_on='State')\n",
    "merged_df.drop(columns='Unnamed: 0_x', inplace=True)\n",
    "merged_df.drop(columns='Unnamed: 0_y', inplace=True)"
   ]
  },
  {
   "cell_type": "markdown",
   "metadata": {},
   "source": [
    "##### 10. Change the names of the columns so you can distinguish between the SAT columns and the ACT columns."
   ]
  },
  {
   "cell_type": "code",
   "execution_count": 16,
   "metadata": {},
   "outputs": [],
   "source": [
    "merged_df.columns = ['State', \n",
    "                     'SAT Participation', \n",
    "                     'Evidence-Based Reading and Writing', \n",
    "                     'SAT Math', \n",
    "                     'SAT Total Score',\n",
    "                     'ACT Participation',\n",
    "                     'ACT English',\n",
    "                     'ACT Math',\n",
    "                     'ACT Reading',\n",
    "                     'ACT Science',\n",
    "                     'ACT Composite Score'\n",
    "                    ]"
   ]
  },
  {
   "cell_type": "code",
   "execution_count": 17,
   "metadata": {
    "scrolled": true
   },
   "outputs": [
    {
     "data": {
      "text/html": [
       "<div>\n",
       "<style scoped>\n",
       "    .dataframe tbody tr th:only-of-type {\n",
       "        vertical-align: middle;\n",
       "    }\n",
       "\n",
       "    .dataframe tbody tr th {\n",
       "        vertical-align: top;\n",
       "    }\n",
       "\n",
       "    .dataframe thead th {\n",
       "        text-align: right;\n",
       "    }\n",
       "</style>\n",
       "<table border=\"1\" class=\"dataframe\">\n",
       "  <thead>\n",
       "    <tr style=\"text-align: right;\">\n",
       "      <th></th>\n",
       "      <th>State</th>\n",
       "      <th>SAT Participation</th>\n",
       "      <th>Evidence-Based Reading and Writing</th>\n",
       "      <th>SAT Math</th>\n",
       "      <th>SAT Total Score</th>\n",
       "      <th>ACT Participation</th>\n",
       "      <th>ACT English</th>\n",
       "      <th>ACT Math</th>\n",
       "      <th>ACT Reading</th>\n",
       "      <th>ACT Science</th>\n",
       "      <th>ACT Composite Score</th>\n",
       "    </tr>\n",
       "  </thead>\n",
       "  <tbody>\n",
       "    <tr>\n",
       "      <th>0</th>\n",
       "      <td>Alabama</td>\n",
       "      <td>0.05</td>\n",
       "      <td>593</td>\n",
       "      <td>572</td>\n",
       "      <td>1165</td>\n",
       "      <td>1.00</td>\n",
       "      <td>18.9</td>\n",
       "      <td>18.4</td>\n",
       "      <td>19.7</td>\n",
       "      <td>19.4</td>\n",
       "      <td>19.2</td>\n",
       "    </tr>\n",
       "    <tr>\n",
       "      <th>1</th>\n",
       "      <td>Alaska</td>\n",
       "      <td>0.38</td>\n",
       "      <td>547</td>\n",
       "      <td>533</td>\n",
       "      <td>1080</td>\n",
       "      <td>0.65</td>\n",
       "      <td>18.7</td>\n",
       "      <td>19.8</td>\n",
       "      <td>20.4</td>\n",
       "      <td>19.9</td>\n",
       "      <td>19.8</td>\n",
       "    </tr>\n",
       "  </tbody>\n",
       "</table>\n",
       "</div>"
      ],
      "text/plain": [
       "     State  SAT Participation  Evidence-Based Reading and Writing  SAT Math  \\\n",
       "0  Alabama               0.05                                 593       572   \n",
       "1   Alaska               0.38                                 547       533   \n",
       "\n",
       "   SAT Total Score  ACT Participation  ACT English  ACT Math  ACT Reading  \\\n",
       "0             1165               1.00         18.9      18.4         19.7   \n",
       "1             1080               0.65         18.7      19.8         20.4   \n",
       "\n",
       "   ACT Science  ACT Composite Score  \n",
       "0         19.4                 19.2  \n",
       "1         19.9                 19.8  "
      ]
     },
     "execution_count": 17,
     "metadata": {},
     "output_type": "execute_result"
    }
   ],
   "source": [
    "merged_df.head(2)"
   ]
  },
  {
   "cell_type": "code",
   "execution_count": 18,
   "metadata": {},
   "outputs": [],
   "source": [
    "merged_copy = merged_df.copy()"
   ]
  },
  {
   "cell_type": "markdown",
   "metadata": {},
   "source": [
    "##### 11. Print the minimum and maximum of each numeric column in the data frame."
   ]
  },
  {
   "cell_type": "code",
   "execution_count": 19,
   "metadata": {
    "scrolled": false
   },
   "outputs": [
    {
     "data": {
      "text/html": [
       "<div>\n",
       "<style scoped>\n",
       "    .dataframe tbody tr th:only-of-type {\n",
       "        vertical-align: middle;\n",
       "    }\n",
       "\n",
       "    .dataframe tbody tr th {\n",
       "        vertical-align: top;\n",
       "    }\n",
       "\n",
       "    .dataframe thead th {\n",
       "        text-align: right;\n",
       "    }\n",
       "</style>\n",
       "<table border=\"1\" class=\"dataframe\">\n",
       "  <thead>\n",
       "    <tr style=\"text-align: right;\">\n",
       "      <th></th>\n",
       "      <th>SAT Participation</th>\n",
       "      <th>Evidence-Based Reading and Writing</th>\n",
       "      <th>SAT Math</th>\n",
       "      <th>SAT Total Score</th>\n",
       "      <th>ACT Participation</th>\n",
       "      <th>ACT English</th>\n",
       "      <th>ACT Math</th>\n",
       "      <th>ACT Reading</th>\n",
       "      <th>ACT Science</th>\n",
       "      <th>ACT Composite Score</th>\n",
       "    </tr>\n",
       "  </thead>\n",
       "  <tbody>\n",
       "    <tr>\n",
       "      <th>count</th>\n",
       "      <td>51.000000</td>\n",
       "      <td>51.000000</td>\n",
       "      <td>51.000000</td>\n",
       "      <td>51.000000</td>\n",
       "      <td>51.000000</td>\n",
       "      <td>51.000000</td>\n",
       "      <td>51.000000</td>\n",
       "      <td>51.000000</td>\n",
       "      <td>51.000000</td>\n",
       "      <td>51.000000</td>\n",
       "    </tr>\n",
       "    <tr>\n",
       "      <th>mean</th>\n",
       "      <td>0.398039</td>\n",
       "      <td>569.117647</td>\n",
       "      <td>556.882353</td>\n",
       "      <td>1126.098039</td>\n",
       "      <td>0.652549</td>\n",
       "      <td>20.931373</td>\n",
       "      <td>21.182353</td>\n",
       "      <td>22.013725</td>\n",
       "      <td>21.450980</td>\n",
       "      <td>21.519608</td>\n",
       "    </tr>\n",
       "    <tr>\n",
       "      <th>std</th>\n",
       "      <td>0.352766</td>\n",
       "      <td>45.666901</td>\n",
       "      <td>47.121395</td>\n",
       "      <td>92.494812</td>\n",
       "      <td>0.321408</td>\n",
       "      <td>2.353677</td>\n",
       "      <td>1.981989</td>\n",
       "      <td>2.067271</td>\n",
       "      <td>1.739353</td>\n",
       "      <td>2.020695</td>\n",
       "    </tr>\n",
       "    <tr>\n",
       "      <th>min</th>\n",
       "      <td>0.020000</td>\n",
       "      <td>482.000000</td>\n",
       "      <td>468.000000</td>\n",
       "      <td>950.000000</td>\n",
       "      <td>0.080000</td>\n",
       "      <td>16.300000</td>\n",
       "      <td>18.000000</td>\n",
       "      <td>18.100000</td>\n",
       "      <td>18.200000</td>\n",
       "      <td>17.800000</td>\n",
       "    </tr>\n",
       "    <tr>\n",
       "      <th>25%</th>\n",
       "      <td>0.040000</td>\n",
       "      <td>533.500000</td>\n",
       "      <td>523.500000</td>\n",
       "      <td>1055.500000</td>\n",
       "      <td>0.310000</td>\n",
       "      <td>19.000000</td>\n",
       "      <td>19.400000</td>\n",
       "      <td>20.450000</td>\n",
       "      <td>19.950000</td>\n",
       "      <td>19.800000</td>\n",
       "    </tr>\n",
       "    <tr>\n",
       "      <th>50%</th>\n",
       "      <td>0.380000</td>\n",
       "      <td>559.000000</td>\n",
       "      <td>548.000000</td>\n",
       "      <td>1107.000000</td>\n",
       "      <td>0.690000</td>\n",
       "      <td>20.700000</td>\n",
       "      <td>20.900000</td>\n",
       "      <td>21.800000</td>\n",
       "      <td>21.300000</td>\n",
       "      <td>21.400000</td>\n",
       "    </tr>\n",
       "    <tr>\n",
       "      <th>75%</th>\n",
       "      <td>0.660000</td>\n",
       "      <td>613.000000</td>\n",
       "      <td>599.000000</td>\n",
       "      <td>1212.000000</td>\n",
       "      <td>1.000000</td>\n",
       "      <td>23.300000</td>\n",
       "      <td>23.100000</td>\n",
       "      <td>24.150000</td>\n",
       "      <td>23.200000</td>\n",
       "      <td>23.600000</td>\n",
       "    </tr>\n",
       "    <tr>\n",
       "      <th>max</th>\n",
       "      <td>1.000000</td>\n",
       "      <td>644.000000</td>\n",
       "      <td>651.000000</td>\n",
       "      <td>1295.000000</td>\n",
       "      <td>1.000000</td>\n",
       "      <td>25.500000</td>\n",
       "      <td>25.300000</td>\n",
       "      <td>26.000000</td>\n",
       "      <td>24.900000</td>\n",
       "      <td>25.500000</td>\n",
       "    </tr>\n",
       "  </tbody>\n",
       "</table>\n",
       "</div>"
      ],
      "text/plain": [
       "       SAT Participation  Evidence-Based Reading and Writing    SAT Math  \\\n",
       "count          51.000000                           51.000000   51.000000   \n",
       "mean            0.398039                          569.117647  556.882353   \n",
       "std             0.352766                           45.666901   47.121395   \n",
       "min             0.020000                          482.000000  468.000000   \n",
       "25%             0.040000                          533.500000  523.500000   \n",
       "50%             0.380000                          559.000000  548.000000   \n",
       "75%             0.660000                          613.000000  599.000000   \n",
       "max             1.000000                          644.000000  651.000000   \n",
       "\n",
       "       SAT Total Score  ACT Participation  ACT English   ACT Math  \\\n",
       "count        51.000000          51.000000    51.000000  51.000000   \n",
       "mean       1126.098039           0.652549    20.931373  21.182353   \n",
       "std          92.494812           0.321408     2.353677   1.981989   \n",
       "min         950.000000           0.080000    16.300000  18.000000   \n",
       "25%        1055.500000           0.310000    19.000000  19.400000   \n",
       "50%        1107.000000           0.690000    20.700000  20.900000   \n",
       "75%        1212.000000           1.000000    23.300000  23.100000   \n",
       "max        1295.000000           1.000000    25.500000  25.300000   \n",
       "\n",
       "       ACT Reading  ACT Science  ACT Composite Score  \n",
       "count    51.000000    51.000000            51.000000  \n",
       "mean     22.013725    21.450980            21.519608  \n",
       "std       2.067271     1.739353             2.020695  \n",
       "min      18.100000    18.200000            17.800000  \n",
       "25%      20.450000    19.950000            19.800000  \n",
       "50%      21.800000    21.300000            21.400000  \n",
       "75%      24.150000    23.200000            23.600000  \n",
       "max      26.000000    24.900000            25.500000  "
      ]
     },
     "execution_count": 19,
     "metadata": {},
     "output_type": "execute_result"
    }
   ],
   "source": [
    "merged_copy.describe()"
   ]
  },
  {
   "cell_type": "markdown",
   "metadata": {},
   "source": [
    "##### 12. Write a function using only list comprehensions, no loops, to compute standard deviation. Using this function, calculate the standard deviation of each numeric column in both data sets. Add these to a list called `sd`.\n",
    "\n",
    "$$\\sigma = \\sqrt{\\frac{1}{n}\\sum_{i=1}^n(x_i - \\mu)^2}$$"
   ]
  },
  {
   "cell_type": "code",
   "execution_count": 20,
   "metadata": {},
   "outputs": [],
   "source": [
    "variance = [sum((merged_copy[header]-np.mean(merged_copy[header]))**2)/len(merged_copy) \n",
    "            for header in merged_copy.keys() if header != 'State']\n",
    "sd = [x**(1/2) for x in variance]"
   ]
  },
  {
   "cell_type": "code",
   "execution_count": 21,
   "metadata": {
    "scrolled": true
   },
   "outputs": [
    {
     "data": {
      "text/plain": [
       "[0.3492907076664507,\n",
       " 45.21697020437866,\n",
       " 46.65713364485503,\n",
       " 91.58351056778743,\n",
       " 0.3182417575123181,\n",
       " 2.3304876369363363,\n",
       " 1.9624620273436781,\n",
       " 2.0469029314842646,\n",
       " 1.7222161451443676,\n",
       " 2.000786081581989]"
      ]
     },
     "execution_count": 21,
     "metadata": {},
     "output_type": "execute_result"
    }
   ],
   "source": [
    "sd"
   ]
  },
  {
   "cell_type": "markdown",
   "metadata": {},
   "source": [
    "## Step 2: Manipulate the dataframe"
   ]
  },
  {
   "cell_type": "markdown",
   "metadata": {},
   "source": [
    "##### 13. Turn the list `sd` into a new observation in your dataset."
   ]
  },
  {
   "cell_type": "code",
   "execution_count": 22,
   "metadata": {},
   "outputs": [
    {
     "data": {
      "text/html": [
       "<div>\n",
       "<style scoped>\n",
       "    .dataframe tbody tr th:only-of-type {\n",
       "        vertical-align: middle;\n",
       "    }\n",
       "\n",
       "    .dataframe tbody tr th {\n",
       "        vertical-align: top;\n",
       "    }\n",
       "\n",
       "    .dataframe thead th {\n",
       "        text-align: right;\n",
       "    }\n",
       "</style>\n",
       "<table border=\"1\" class=\"dataframe\">\n",
       "  <thead>\n",
       "    <tr style=\"text-align: right;\">\n",
       "      <th></th>\n",
       "      <th>State</th>\n",
       "      <th>SAT Participation</th>\n",
       "      <th>Evidence-Based Reading and Writing</th>\n",
       "      <th>SAT Math</th>\n",
       "      <th>SAT Total Score</th>\n",
       "      <th>ACT Participation</th>\n",
       "      <th>ACT English</th>\n",
       "      <th>ACT Math</th>\n",
       "      <th>ACT Reading</th>\n",
       "      <th>ACT Science</th>\n",
       "      <th>ACT Composite Score</th>\n",
       "    </tr>\n",
       "  </thead>\n",
       "  <tbody>\n",
       "    <tr>\n",
       "      <th>47</th>\n",
       "      <td>Washington</td>\n",
       "      <td>0.640000</td>\n",
       "      <td>541.00000</td>\n",
       "      <td>534.000000</td>\n",
       "      <td>1075.000000</td>\n",
       "      <td>0.290000</td>\n",
       "      <td>20.900000</td>\n",
       "      <td>21.900000</td>\n",
       "      <td>22.100000</td>\n",
       "      <td>22.000000</td>\n",
       "      <td>21.900000</td>\n",
       "    </tr>\n",
       "    <tr>\n",
       "      <th>48</th>\n",
       "      <td>West Virginia</td>\n",
       "      <td>0.140000</td>\n",
       "      <td>558.00000</td>\n",
       "      <td>528.000000</td>\n",
       "      <td>1086.000000</td>\n",
       "      <td>0.690000</td>\n",
       "      <td>20.000000</td>\n",
       "      <td>19.400000</td>\n",
       "      <td>21.200000</td>\n",
       "      <td>20.500000</td>\n",
       "      <td>20.400000</td>\n",
       "    </tr>\n",
       "    <tr>\n",
       "      <th>49</th>\n",
       "      <td>Wisconsin</td>\n",
       "      <td>0.030000</td>\n",
       "      <td>642.00000</td>\n",
       "      <td>649.000000</td>\n",
       "      <td>1291.000000</td>\n",
       "      <td>1.000000</td>\n",
       "      <td>19.700000</td>\n",
       "      <td>20.400000</td>\n",
       "      <td>20.600000</td>\n",
       "      <td>20.900000</td>\n",
       "      <td>20.500000</td>\n",
       "    </tr>\n",
       "    <tr>\n",
       "      <th>50</th>\n",
       "      <td>Wyoming</td>\n",
       "      <td>0.030000</td>\n",
       "      <td>626.00000</td>\n",
       "      <td>604.000000</td>\n",
       "      <td>1230.000000</td>\n",
       "      <td>1.000000</td>\n",
       "      <td>19.400000</td>\n",
       "      <td>19.800000</td>\n",
       "      <td>20.800000</td>\n",
       "      <td>20.600000</td>\n",
       "      <td>20.200000</td>\n",
       "    </tr>\n",
       "    <tr>\n",
       "      <th>51</th>\n",
       "      <td>Standard Deviation</td>\n",
       "      <td>0.349291</td>\n",
       "      <td>45.21697</td>\n",
       "      <td>46.657134</td>\n",
       "      <td>91.583511</td>\n",
       "      <td>0.318242</td>\n",
       "      <td>2.330488</td>\n",
       "      <td>1.962462</td>\n",
       "      <td>2.046903</td>\n",
       "      <td>1.722216</td>\n",
       "      <td>2.000786</td>\n",
       "    </tr>\n",
       "  </tbody>\n",
       "</table>\n",
       "</div>"
      ],
      "text/plain": [
       "                 State  SAT Participation  Evidence-Based Reading and Writing  \\\n",
       "47          Washington           0.640000                           541.00000   \n",
       "48       West Virginia           0.140000                           558.00000   \n",
       "49           Wisconsin           0.030000                           642.00000   \n",
       "50             Wyoming           0.030000                           626.00000   \n",
       "51  Standard Deviation           0.349291                            45.21697   \n",
       "\n",
       "      SAT Math  SAT Total Score  ACT Participation  ACT English   ACT Math  \\\n",
       "47  534.000000      1075.000000           0.290000    20.900000  21.900000   \n",
       "48  528.000000      1086.000000           0.690000    20.000000  19.400000   \n",
       "49  649.000000      1291.000000           1.000000    19.700000  20.400000   \n",
       "50  604.000000      1230.000000           1.000000    19.400000  19.800000   \n",
       "51   46.657134        91.583511           0.318242     2.330488   1.962462   \n",
       "\n",
       "    ACT Reading  ACT Science  ACT Composite Score  \n",
       "47    22.100000    22.000000            21.900000  \n",
       "48    21.200000    20.500000            20.400000  \n",
       "49    20.600000    20.900000            20.500000  \n",
       "50    20.800000    20.600000            20.200000  \n",
       "51     2.046903     1.722216             2.000786  "
      ]
     },
     "execution_count": 22,
     "metadata": {},
     "output_type": "execute_result"
    }
   ],
   "source": [
    "merged_copy.loc[51, :] = ['Standard Deviation'] + sd\n",
    "merged_copy.tail()"
   ]
  },
  {
   "cell_type": "markdown",
   "metadata": {},
   "source": [
    "##### 14. Sort the dataframe by the values in a numeric column (e.g. observations descending by SAT participation rate)"
   ]
  },
  {
   "cell_type": "code",
   "execution_count": 23,
   "metadata": {
    "scrolled": true
   },
   "outputs": [],
   "source": [
    "sorted_sat = merged_copy.sort_values(by=['SAT Total Score'], ascending=False)"
   ]
  },
  {
   "cell_type": "code",
   "execution_count": 24,
   "metadata": {
    "scrolled": true
   },
   "outputs": [],
   "source": [
    "sorted_act = merged_copy.sort_values(by=['ACT Participation'], ascending=False)"
   ]
  },
  {
   "cell_type": "markdown",
   "metadata": {},
   "source": [
    "##### 15. Use a boolean filter to display only observations with a score above a certain threshold (e.g. only states with a participation rate above 50%)"
   ]
  },
  {
   "cell_type": "code",
   "execution_count": 25,
   "metadata": {
    "scrolled": true
   },
   "outputs": [
    {
     "data": {
      "text/html": [
       "<div>\n",
       "<style scoped>\n",
       "    .dataframe tbody tr th:only-of-type {\n",
       "        vertical-align: middle;\n",
       "    }\n",
       "\n",
       "    .dataframe tbody tr th {\n",
       "        vertical-align: top;\n",
       "    }\n",
       "\n",
       "    .dataframe thead th {\n",
       "        text-align: right;\n",
       "    }\n",
       "</style>\n",
       "<table border=\"1\" class=\"dataframe\">\n",
       "  <thead>\n",
       "    <tr style=\"text-align: right;\">\n",
       "      <th></th>\n",
       "      <th>State</th>\n",
       "      <th>SAT Participation</th>\n",
       "      <th>Evidence-Based Reading and Writing</th>\n",
       "      <th>SAT Math</th>\n",
       "      <th>SAT Total Score</th>\n",
       "      <th>ACT Participation</th>\n",
       "      <th>ACT English</th>\n",
       "      <th>ACT Math</th>\n",
       "      <th>ACT Reading</th>\n",
       "      <th>ACT Science</th>\n",
       "      <th>ACT Composite Score</th>\n",
       "    </tr>\n",
       "  </thead>\n",
       "  <tbody>\n",
       "    <tr>\n",
       "      <th>0</th>\n",
       "      <td>NaN</td>\n",
       "      <td>NaN</td>\n",
       "      <td>NaN</td>\n",
       "      <td>NaN</td>\n",
       "      <td>NaN</td>\n",
       "      <td>1.00</td>\n",
       "      <td>NaN</td>\n",
       "      <td>NaN</td>\n",
       "      <td>NaN</td>\n",
       "      <td>NaN</td>\n",
       "      <td>NaN</td>\n",
       "    </tr>\n",
       "    <tr>\n",
       "      <th>1</th>\n",
       "      <td>NaN</td>\n",
       "      <td>NaN</td>\n",
       "      <td>NaN</td>\n",
       "      <td>NaN</td>\n",
       "      <td>NaN</td>\n",
       "      <td>0.65</td>\n",
       "      <td>NaN</td>\n",
       "      <td>NaN</td>\n",
       "      <td>NaN</td>\n",
       "      <td>NaN</td>\n",
       "      <td>NaN</td>\n",
       "    </tr>\n",
       "    <tr>\n",
       "      <th>2</th>\n",
       "      <td>NaN</td>\n",
       "      <td>NaN</td>\n",
       "      <td>NaN</td>\n",
       "      <td>NaN</td>\n",
       "      <td>NaN</td>\n",
       "      <td>0.62</td>\n",
       "      <td>NaN</td>\n",
       "      <td>NaN</td>\n",
       "      <td>NaN</td>\n",
       "      <td>NaN</td>\n",
       "      <td>NaN</td>\n",
       "    </tr>\n",
       "    <tr>\n",
       "      <th>3</th>\n",
       "      <td>NaN</td>\n",
       "      <td>NaN</td>\n",
       "      <td>NaN</td>\n",
       "      <td>NaN</td>\n",
       "      <td>NaN</td>\n",
       "      <td>1.00</td>\n",
       "      <td>NaN</td>\n",
       "      <td>NaN</td>\n",
       "      <td>NaN</td>\n",
       "      <td>NaN</td>\n",
       "      <td>NaN</td>\n",
       "    </tr>\n",
       "    <tr>\n",
       "      <th>4</th>\n",
       "      <td>NaN</td>\n",
       "      <td>0.53</td>\n",
       "      <td>NaN</td>\n",
       "      <td>NaN</td>\n",
       "      <td>NaN</td>\n",
       "      <td>NaN</td>\n",
       "      <td>NaN</td>\n",
       "      <td>NaN</td>\n",
       "      <td>NaN</td>\n",
       "      <td>NaN</td>\n",
       "      <td>NaN</td>\n",
       "    </tr>\n",
       "    <tr>\n",
       "      <th>5</th>\n",
       "      <td>NaN</td>\n",
       "      <td>NaN</td>\n",
       "      <td>NaN</td>\n",
       "      <td>NaN</td>\n",
       "      <td>NaN</td>\n",
       "      <td>1.00</td>\n",
       "      <td>NaN</td>\n",
       "      <td>NaN</td>\n",
       "      <td>NaN</td>\n",
       "      <td>NaN</td>\n",
       "      <td>NaN</td>\n",
       "    </tr>\n",
       "    <tr>\n",
       "      <th>6</th>\n",
       "      <td>NaN</td>\n",
       "      <td>1.00</td>\n",
       "      <td>NaN</td>\n",
       "      <td>NaN</td>\n",
       "      <td>NaN</td>\n",
       "      <td>NaN</td>\n",
       "      <td>NaN</td>\n",
       "      <td>NaN</td>\n",
       "      <td>NaN</td>\n",
       "      <td>NaN</td>\n",
       "      <td>NaN</td>\n",
       "    </tr>\n",
       "    <tr>\n",
       "      <th>7</th>\n",
       "      <td>NaN</td>\n",
       "      <td>1.00</td>\n",
       "      <td>NaN</td>\n",
       "      <td>NaN</td>\n",
       "      <td>NaN</td>\n",
       "      <td>NaN</td>\n",
       "      <td>NaN</td>\n",
       "      <td>NaN</td>\n",
       "      <td>NaN</td>\n",
       "      <td>NaN</td>\n",
       "      <td>NaN</td>\n",
       "    </tr>\n",
       "    <tr>\n",
       "      <th>8</th>\n",
       "      <td>NaN</td>\n",
       "      <td>1.00</td>\n",
       "      <td>NaN</td>\n",
       "      <td>NaN</td>\n",
       "      <td>NaN</td>\n",
       "      <td>NaN</td>\n",
       "      <td>NaN</td>\n",
       "      <td>NaN</td>\n",
       "      <td>NaN</td>\n",
       "      <td>NaN</td>\n",
       "      <td>NaN</td>\n",
       "    </tr>\n",
       "    <tr>\n",
       "      <th>9</th>\n",
       "      <td>NaN</td>\n",
       "      <td>0.83</td>\n",
       "      <td>NaN</td>\n",
       "      <td>NaN</td>\n",
       "      <td>NaN</td>\n",
       "      <td>0.73</td>\n",
       "      <td>NaN</td>\n",
       "      <td>NaN</td>\n",
       "      <td>NaN</td>\n",
       "      <td>NaN</td>\n",
       "      <td>NaN</td>\n",
       "    </tr>\n",
       "    <tr>\n",
       "      <th>10</th>\n",
       "      <td>NaN</td>\n",
       "      <td>0.61</td>\n",
       "      <td>NaN</td>\n",
       "      <td>NaN</td>\n",
       "      <td>NaN</td>\n",
       "      <td>0.55</td>\n",
       "      <td>NaN</td>\n",
       "      <td>NaN</td>\n",
       "      <td>NaN</td>\n",
       "      <td>NaN</td>\n",
       "      <td>NaN</td>\n",
       "    </tr>\n",
       "    <tr>\n",
       "      <th>11</th>\n",
       "      <td>NaN</td>\n",
       "      <td>0.55</td>\n",
       "      <td>NaN</td>\n",
       "      <td>NaN</td>\n",
       "      <td>NaN</td>\n",
       "      <td>0.90</td>\n",
       "      <td>NaN</td>\n",
       "      <td>NaN</td>\n",
       "      <td>NaN</td>\n",
       "      <td>NaN</td>\n",
       "      <td>NaN</td>\n",
       "    </tr>\n",
       "    <tr>\n",
       "      <th>12</th>\n",
       "      <td>NaN</td>\n",
       "      <td>0.93</td>\n",
       "      <td>NaN</td>\n",
       "      <td>NaN</td>\n",
       "      <td>NaN</td>\n",
       "      <td>NaN</td>\n",
       "      <td>NaN</td>\n",
       "      <td>NaN</td>\n",
       "      <td>NaN</td>\n",
       "      <td>NaN</td>\n",
       "      <td>NaN</td>\n",
       "    </tr>\n",
       "    <tr>\n",
       "      <th>13</th>\n",
       "      <td>NaN</td>\n",
       "      <td>NaN</td>\n",
       "      <td>NaN</td>\n",
       "      <td>NaN</td>\n",
       "      <td>NaN</td>\n",
       "      <td>0.93</td>\n",
       "      <td>NaN</td>\n",
       "      <td>NaN</td>\n",
       "      <td>NaN</td>\n",
       "      <td>NaN</td>\n",
       "      <td>NaN</td>\n",
       "    </tr>\n",
       "    <tr>\n",
       "      <th>14</th>\n",
       "      <td>NaN</td>\n",
       "      <td>0.63</td>\n",
       "      <td>NaN</td>\n",
       "      <td>NaN</td>\n",
       "      <td>NaN</td>\n",
       "      <td>NaN</td>\n",
       "      <td>NaN</td>\n",
       "      <td>NaN</td>\n",
       "      <td>NaN</td>\n",
       "      <td>NaN</td>\n",
       "      <td>NaN</td>\n",
       "    </tr>\n",
       "    <tr>\n",
       "      <th>15</th>\n",
       "      <td>NaN</td>\n",
       "      <td>NaN</td>\n",
       "      <td>NaN</td>\n",
       "      <td>NaN</td>\n",
       "      <td>NaN</td>\n",
       "      <td>0.67</td>\n",
       "      <td>NaN</td>\n",
       "      <td>NaN</td>\n",
       "      <td>NaN</td>\n",
       "      <td>NaN</td>\n",
       "      <td>NaN</td>\n",
       "    </tr>\n",
       "    <tr>\n",
       "      <th>16</th>\n",
       "      <td>NaN</td>\n",
       "      <td>NaN</td>\n",
       "      <td>NaN</td>\n",
       "      <td>NaN</td>\n",
       "      <td>NaN</td>\n",
       "      <td>0.73</td>\n",
       "      <td>NaN</td>\n",
       "      <td>NaN</td>\n",
       "      <td>NaN</td>\n",
       "      <td>NaN</td>\n",
       "      <td>NaN</td>\n",
       "    </tr>\n",
       "    <tr>\n",
       "      <th>17</th>\n",
       "      <td>NaN</td>\n",
       "      <td>NaN</td>\n",
       "      <td>NaN</td>\n",
       "      <td>NaN</td>\n",
       "      <td>NaN</td>\n",
       "      <td>1.00</td>\n",
       "      <td>NaN</td>\n",
       "      <td>NaN</td>\n",
       "      <td>NaN</td>\n",
       "      <td>NaN</td>\n",
       "      <td>NaN</td>\n",
       "    </tr>\n",
       "    <tr>\n",
       "      <th>18</th>\n",
       "      <td>NaN</td>\n",
       "      <td>NaN</td>\n",
       "      <td>NaN</td>\n",
       "      <td>NaN</td>\n",
       "      <td>NaN</td>\n",
       "      <td>1.00</td>\n",
       "      <td>NaN</td>\n",
       "      <td>NaN</td>\n",
       "      <td>NaN</td>\n",
       "      <td>NaN</td>\n",
       "      <td>NaN</td>\n",
       "    </tr>\n",
       "    <tr>\n",
       "      <th>19</th>\n",
       "      <td>NaN</td>\n",
       "      <td>0.95</td>\n",
       "      <td>NaN</td>\n",
       "      <td>NaN</td>\n",
       "      <td>NaN</td>\n",
       "      <td>NaN</td>\n",
       "      <td>NaN</td>\n",
       "      <td>NaN</td>\n",
       "      <td>NaN</td>\n",
       "      <td>NaN</td>\n",
       "      <td>NaN</td>\n",
       "    </tr>\n",
       "    <tr>\n",
       "      <th>20</th>\n",
       "      <td>NaN</td>\n",
       "      <td>0.69</td>\n",
       "      <td>NaN</td>\n",
       "      <td>NaN</td>\n",
       "      <td>NaN</td>\n",
       "      <td>NaN</td>\n",
       "      <td>NaN</td>\n",
       "      <td>NaN</td>\n",
       "      <td>NaN</td>\n",
       "      <td>NaN</td>\n",
       "      <td>NaN</td>\n",
       "    </tr>\n",
       "    <tr>\n",
       "      <th>21</th>\n",
       "      <td>NaN</td>\n",
       "      <td>0.76</td>\n",
       "      <td>NaN</td>\n",
       "      <td>NaN</td>\n",
       "      <td>NaN</td>\n",
       "      <td>NaN</td>\n",
       "      <td>NaN</td>\n",
       "      <td>NaN</td>\n",
       "      <td>NaN</td>\n",
       "      <td>NaN</td>\n",
       "      <td>NaN</td>\n",
       "    </tr>\n",
       "    <tr>\n",
       "      <th>22</th>\n",
       "      <td>NaN</td>\n",
       "      <td>1.00</td>\n",
       "      <td>NaN</td>\n",
       "      <td>NaN</td>\n",
       "      <td>NaN</td>\n",
       "      <td>NaN</td>\n",
       "      <td>NaN</td>\n",
       "      <td>NaN</td>\n",
       "      <td>NaN</td>\n",
       "      <td>NaN</td>\n",
       "      <td>NaN</td>\n",
       "    </tr>\n",
       "    <tr>\n",
       "      <th>23</th>\n",
       "      <td>NaN</td>\n",
       "      <td>NaN</td>\n",
       "      <td>NaN</td>\n",
       "      <td>NaN</td>\n",
       "      <td>NaN</td>\n",
       "      <td>1.00</td>\n",
       "      <td>NaN</td>\n",
       "      <td>NaN</td>\n",
       "      <td>NaN</td>\n",
       "      <td>NaN</td>\n",
       "      <td>NaN</td>\n",
       "    </tr>\n",
       "    <tr>\n",
       "      <th>24</th>\n",
       "      <td>NaN</td>\n",
       "      <td>NaN</td>\n",
       "      <td>NaN</td>\n",
       "      <td>NaN</td>\n",
       "      <td>NaN</td>\n",
       "      <td>1.00</td>\n",
       "      <td>NaN</td>\n",
       "      <td>NaN</td>\n",
       "      <td>NaN</td>\n",
       "      <td>NaN</td>\n",
       "      <td>NaN</td>\n",
       "    </tr>\n",
       "    <tr>\n",
       "      <th>25</th>\n",
       "      <td>NaN</td>\n",
       "      <td>NaN</td>\n",
       "      <td>NaN</td>\n",
       "      <td>NaN</td>\n",
       "      <td>NaN</td>\n",
       "      <td>1.00</td>\n",
       "      <td>NaN</td>\n",
       "      <td>NaN</td>\n",
       "      <td>NaN</td>\n",
       "      <td>NaN</td>\n",
       "      <td>NaN</td>\n",
       "    </tr>\n",
       "    <tr>\n",
       "      <th>26</th>\n",
       "      <td>NaN</td>\n",
       "      <td>NaN</td>\n",
       "      <td>NaN</td>\n",
       "      <td>NaN</td>\n",
       "      <td>NaN</td>\n",
       "      <td>1.00</td>\n",
       "      <td>NaN</td>\n",
       "      <td>NaN</td>\n",
       "      <td>NaN</td>\n",
       "      <td>NaN</td>\n",
       "      <td>NaN</td>\n",
       "    </tr>\n",
       "    <tr>\n",
       "      <th>27</th>\n",
       "      <td>NaN</td>\n",
       "      <td>NaN</td>\n",
       "      <td>NaN</td>\n",
       "      <td>NaN</td>\n",
       "      <td>NaN</td>\n",
       "      <td>0.84</td>\n",
       "      <td>NaN</td>\n",
       "      <td>NaN</td>\n",
       "      <td>NaN</td>\n",
       "      <td>NaN</td>\n",
       "      <td>NaN</td>\n",
       "    </tr>\n",
       "    <tr>\n",
       "      <th>28</th>\n",
       "      <td>NaN</td>\n",
       "      <td>NaN</td>\n",
       "      <td>NaN</td>\n",
       "      <td>NaN</td>\n",
       "      <td>NaN</td>\n",
       "      <td>1.00</td>\n",
       "      <td>NaN</td>\n",
       "      <td>NaN</td>\n",
       "      <td>NaN</td>\n",
       "      <td>NaN</td>\n",
       "      <td>NaN</td>\n",
       "    </tr>\n",
       "    <tr>\n",
       "      <th>29</th>\n",
       "      <td>NaN</td>\n",
       "      <td>0.96</td>\n",
       "      <td>NaN</td>\n",
       "      <td>NaN</td>\n",
       "      <td>NaN</td>\n",
       "      <td>NaN</td>\n",
       "      <td>NaN</td>\n",
       "      <td>NaN</td>\n",
       "      <td>NaN</td>\n",
       "      <td>NaN</td>\n",
       "      <td>NaN</td>\n",
       "    </tr>\n",
       "    <tr>\n",
       "      <th>30</th>\n",
       "      <td>NaN</td>\n",
       "      <td>0.70</td>\n",
       "      <td>NaN</td>\n",
       "      <td>NaN</td>\n",
       "      <td>NaN</td>\n",
       "      <td>NaN</td>\n",
       "      <td>NaN</td>\n",
       "      <td>NaN</td>\n",
       "      <td>NaN</td>\n",
       "      <td>NaN</td>\n",
       "      <td>NaN</td>\n",
       "    </tr>\n",
       "    <tr>\n",
       "      <th>31</th>\n",
       "      <td>NaN</td>\n",
       "      <td>NaN</td>\n",
       "      <td>NaN</td>\n",
       "      <td>NaN</td>\n",
       "      <td>NaN</td>\n",
       "      <td>0.66</td>\n",
       "      <td>NaN</td>\n",
       "      <td>NaN</td>\n",
       "      <td>NaN</td>\n",
       "      <td>NaN</td>\n",
       "      <td>NaN</td>\n",
       "    </tr>\n",
       "    <tr>\n",
       "      <th>32</th>\n",
       "      <td>NaN</td>\n",
       "      <td>0.67</td>\n",
       "      <td>NaN</td>\n",
       "      <td>NaN</td>\n",
       "      <td>NaN</td>\n",
       "      <td>NaN</td>\n",
       "      <td>NaN</td>\n",
       "      <td>NaN</td>\n",
       "      <td>NaN</td>\n",
       "      <td>NaN</td>\n",
       "      <td>NaN</td>\n",
       "    </tr>\n",
       "    <tr>\n",
       "      <th>33</th>\n",
       "      <td>NaN</td>\n",
       "      <td>NaN</td>\n",
       "      <td>NaN</td>\n",
       "      <td>NaN</td>\n",
       "      <td>NaN</td>\n",
       "      <td>1.00</td>\n",
       "      <td>NaN</td>\n",
       "      <td>NaN</td>\n",
       "      <td>NaN</td>\n",
       "      <td>NaN</td>\n",
       "      <td>NaN</td>\n",
       "    </tr>\n",
       "    <tr>\n",
       "      <th>34</th>\n",
       "      <td>NaN</td>\n",
       "      <td>NaN</td>\n",
       "      <td>NaN</td>\n",
       "      <td>NaN</td>\n",
       "      <td>NaN</td>\n",
       "      <td>0.98</td>\n",
       "      <td>NaN</td>\n",
       "      <td>NaN</td>\n",
       "      <td>NaN</td>\n",
       "      <td>NaN</td>\n",
       "      <td>NaN</td>\n",
       "    </tr>\n",
       "    <tr>\n",
       "      <th>35</th>\n",
       "      <td>NaN</td>\n",
       "      <td>NaN</td>\n",
       "      <td>NaN</td>\n",
       "      <td>NaN</td>\n",
       "      <td>NaN</td>\n",
       "      <td>0.75</td>\n",
       "      <td>NaN</td>\n",
       "      <td>NaN</td>\n",
       "      <td>NaN</td>\n",
       "      <td>NaN</td>\n",
       "      <td>NaN</td>\n",
       "    </tr>\n",
       "    <tr>\n",
       "      <th>36</th>\n",
       "      <td>NaN</td>\n",
       "      <td>NaN</td>\n",
       "      <td>NaN</td>\n",
       "      <td>NaN</td>\n",
       "      <td>NaN</td>\n",
       "      <td>1.00</td>\n",
       "      <td>NaN</td>\n",
       "      <td>NaN</td>\n",
       "      <td>NaN</td>\n",
       "      <td>NaN</td>\n",
       "      <td>NaN</td>\n",
       "    </tr>\n",
       "    <tr>\n",
       "      <th>37</th>\n",
       "      <td>NaN</td>\n",
       "      <td>NaN</td>\n",
       "      <td>NaN</td>\n",
       "      <td>NaN</td>\n",
       "      <td>NaN</td>\n",
       "      <td>NaN</td>\n",
       "      <td>NaN</td>\n",
       "      <td>NaN</td>\n",
       "      <td>NaN</td>\n",
       "      <td>NaN</td>\n",
       "      <td>NaN</td>\n",
       "    </tr>\n",
       "    <tr>\n",
       "      <th>38</th>\n",
       "      <td>NaN</td>\n",
       "      <td>0.65</td>\n",
       "      <td>NaN</td>\n",
       "      <td>NaN</td>\n",
       "      <td>NaN</td>\n",
       "      <td>NaN</td>\n",
       "      <td>NaN</td>\n",
       "      <td>NaN</td>\n",
       "      <td>NaN</td>\n",
       "      <td>NaN</td>\n",
       "      <td>NaN</td>\n",
       "    </tr>\n",
       "    <tr>\n",
       "      <th>39</th>\n",
       "      <td>NaN</td>\n",
       "      <td>0.71</td>\n",
       "      <td>NaN</td>\n",
       "      <td>NaN</td>\n",
       "      <td>NaN</td>\n",
       "      <td>NaN</td>\n",
       "      <td>NaN</td>\n",
       "      <td>NaN</td>\n",
       "      <td>NaN</td>\n",
       "      <td>NaN</td>\n",
       "      <td>NaN</td>\n",
       "    </tr>\n",
       "    <tr>\n",
       "      <th>40</th>\n",
       "      <td>NaN</td>\n",
       "      <td>NaN</td>\n",
       "      <td>NaN</td>\n",
       "      <td>NaN</td>\n",
       "      <td>NaN</td>\n",
       "      <td>1.00</td>\n",
       "      <td>NaN</td>\n",
       "      <td>NaN</td>\n",
       "      <td>NaN</td>\n",
       "      <td>NaN</td>\n",
       "      <td>NaN</td>\n",
       "    </tr>\n",
       "    <tr>\n",
       "      <th>41</th>\n",
       "      <td>NaN</td>\n",
       "      <td>NaN</td>\n",
       "      <td>NaN</td>\n",
       "      <td>NaN</td>\n",
       "      <td>NaN</td>\n",
       "      <td>0.80</td>\n",
       "      <td>NaN</td>\n",
       "      <td>NaN</td>\n",
       "      <td>NaN</td>\n",
       "      <td>NaN</td>\n",
       "      <td>NaN</td>\n",
       "    </tr>\n",
       "    <tr>\n",
       "      <th>42</th>\n",
       "      <td>NaN</td>\n",
       "      <td>NaN</td>\n",
       "      <td>NaN</td>\n",
       "      <td>NaN</td>\n",
       "      <td>NaN</td>\n",
       "      <td>1.00</td>\n",
       "      <td>NaN</td>\n",
       "      <td>NaN</td>\n",
       "      <td>NaN</td>\n",
       "      <td>NaN</td>\n",
       "      <td>NaN</td>\n",
       "    </tr>\n",
       "    <tr>\n",
       "      <th>43</th>\n",
       "      <td>NaN</td>\n",
       "      <td>0.62</td>\n",
       "      <td>NaN</td>\n",
       "      <td>NaN</td>\n",
       "      <td>NaN</td>\n",
       "      <td>NaN</td>\n",
       "      <td>NaN</td>\n",
       "      <td>NaN</td>\n",
       "      <td>NaN</td>\n",
       "      <td>NaN</td>\n",
       "      <td>NaN</td>\n",
       "    </tr>\n",
       "    <tr>\n",
       "      <th>44</th>\n",
       "      <td>NaN</td>\n",
       "      <td>NaN</td>\n",
       "      <td>NaN</td>\n",
       "      <td>NaN</td>\n",
       "      <td>NaN</td>\n",
       "      <td>1.00</td>\n",
       "      <td>NaN</td>\n",
       "      <td>NaN</td>\n",
       "      <td>NaN</td>\n",
       "      <td>NaN</td>\n",
       "      <td>NaN</td>\n",
       "    </tr>\n",
       "    <tr>\n",
       "      <th>45</th>\n",
       "      <td>NaN</td>\n",
       "      <td>0.60</td>\n",
       "      <td>NaN</td>\n",
       "      <td>NaN</td>\n",
       "      <td>NaN</td>\n",
       "      <td>NaN</td>\n",
       "      <td>NaN</td>\n",
       "      <td>NaN</td>\n",
       "      <td>NaN</td>\n",
       "      <td>NaN</td>\n",
       "      <td>NaN</td>\n",
       "    </tr>\n",
       "    <tr>\n",
       "      <th>46</th>\n",
       "      <td>NaN</td>\n",
       "      <td>0.65</td>\n",
       "      <td>NaN</td>\n",
       "      <td>NaN</td>\n",
       "      <td>NaN</td>\n",
       "      <td>NaN</td>\n",
       "      <td>NaN</td>\n",
       "      <td>NaN</td>\n",
       "      <td>NaN</td>\n",
       "      <td>NaN</td>\n",
       "      <td>NaN</td>\n",
       "    </tr>\n",
       "    <tr>\n",
       "      <th>47</th>\n",
       "      <td>NaN</td>\n",
       "      <td>0.64</td>\n",
       "      <td>NaN</td>\n",
       "      <td>NaN</td>\n",
       "      <td>NaN</td>\n",
       "      <td>NaN</td>\n",
       "      <td>NaN</td>\n",
       "      <td>NaN</td>\n",
       "      <td>NaN</td>\n",
       "      <td>NaN</td>\n",
       "      <td>NaN</td>\n",
       "    </tr>\n",
       "    <tr>\n",
       "      <th>48</th>\n",
       "      <td>NaN</td>\n",
       "      <td>NaN</td>\n",
       "      <td>NaN</td>\n",
       "      <td>NaN</td>\n",
       "      <td>NaN</td>\n",
       "      <td>0.69</td>\n",
       "      <td>NaN</td>\n",
       "      <td>NaN</td>\n",
       "      <td>NaN</td>\n",
       "      <td>NaN</td>\n",
       "      <td>NaN</td>\n",
       "    </tr>\n",
       "    <tr>\n",
       "      <th>49</th>\n",
       "      <td>NaN</td>\n",
       "      <td>NaN</td>\n",
       "      <td>NaN</td>\n",
       "      <td>NaN</td>\n",
       "      <td>NaN</td>\n",
       "      <td>1.00</td>\n",
       "      <td>NaN</td>\n",
       "      <td>NaN</td>\n",
       "      <td>NaN</td>\n",
       "      <td>NaN</td>\n",
       "      <td>NaN</td>\n",
       "    </tr>\n",
       "    <tr>\n",
       "      <th>50</th>\n",
       "      <td>NaN</td>\n",
       "      <td>NaN</td>\n",
       "      <td>NaN</td>\n",
       "      <td>NaN</td>\n",
       "      <td>NaN</td>\n",
       "      <td>1.00</td>\n",
       "      <td>NaN</td>\n",
       "      <td>NaN</td>\n",
       "      <td>NaN</td>\n",
       "      <td>NaN</td>\n",
       "      <td>NaN</td>\n",
       "    </tr>\n",
       "    <tr>\n",
       "      <th>51</th>\n",
       "      <td>NaN</td>\n",
       "      <td>NaN</td>\n",
       "      <td>NaN</td>\n",
       "      <td>NaN</td>\n",
       "      <td>NaN</td>\n",
       "      <td>NaN</td>\n",
       "      <td>NaN</td>\n",
       "      <td>NaN</td>\n",
       "      <td>NaN</td>\n",
       "      <td>NaN</td>\n",
       "      <td>NaN</td>\n",
       "    </tr>\n",
       "  </tbody>\n",
       "</table>\n",
       "</div>"
      ],
      "text/plain": [
       "   State  SAT Participation  Evidence-Based Reading and Writing  SAT Math  \\\n",
       "0    NaN                NaN                                 NaN       NaN   \n",
       "1    NaN                NaN                                 NaN       NaN   \n",
       "2    NaN                NaN                                 NaN       NaN   \n",
       "3    NaN                NaN                                 NaN       NaN   \n",
       "4    NaN               0.53                                 NaN       NaN   \n",
       "5    NaN                NaN                                 NaN       NaN   \n",
       "6    NaN               1.00                                 NaN       NaN   \n",
       "7    NaN               1.00                                 NaN       NaN   \n",
       "8    NaN               1.00                                 NaN       NaN   \n",
       "9    NaN               0.83                                 NaN       NaN   \n",
       "10   NaN               0.61                                 NaN       NaN   \n",
       "11   NaN               0.55                                 NaN       NaN   \n",
       "12   NaN               0.93                                 NaN       NaN   \n",
       "13   NaN                NaN                                 NaN       NaN   \n",
       "14   NaN               0.63                                 NaN       NaN   \n",
       "15   NaN                NaN                                 NaN       NaN   \n",
       "16   NaN                NaN                                 NaN       NaN   \n",
       "17   NaN                NaN                                 NaN       NaN   \n",
       "18   NaN                NaN                                 NaN       NaN   \n",
       "19   NaN               0.95                                 NaN       NaN   \n",
       "20   NaN               0.69                                 NaN       NaN   \n",
       "21   NaN               0.76                                 NaN       NaN   \n",
       "22   NaN               1.00                                 NaN       NaN   \n",
       "23   NaN                NaN                                 NaN       NaN   \n",
       "24   NaN                NaN                                 NaN       NaN   \n",
       "25   NaN                NaN                                 NaN       NaN   \n",
       "26   NaN                NaN                                 NaN       NaN   \n",
       "27   NaN                NaN                                 NaN       NaN   \n",
       "28   NaN                NaN                                 NaN       NaN   \n",
       "29   NaN               0.96                                 NaN       NaN   \n",
       "30   NaN               0.70                                 NaN       NaN   \n",
       "31   NaN                NaN                                 NaN       NaN   \n",
       "32   NaN               0.67                                 NaN       NaN   \n",
       "33   NaN                NaN                                 NaN       NaN   \n",
       "34   NaN                NaN                                 NaN       NaN   \n",
       "35   NaN                NaN                                 NaN       NaN   \n",
       "36   NaN                NaN                                 NaN       NaN   \n",
       "37   NaN                NaN                                 NaN       NaN   \n",
       "38   NaN               0.65                                 NaN       NaN   \n",
       "39   NaN               0.71                                 NaN       NaN   \n",
       "40   NaN                NaN                                 NaN       NaN   \n",
       "41   NaN                NaN                                 NaN       NaN   \n",
       "42   NaN                NaN                                 NaN       NaN   \n",
       "43   NaN               0.62                                 NaN       NaN   \n",
       "44   NaN                NaN                                 NaN       NaN   \n",
       "45   NaN               0.60                                 NaN       NaN   \n",
       "46   NaN               0.65                                 NaN       NaN   \n",
       "47   NaN               0.64                                 NaN       NaN   \n",
       "48   NaN                NaN                                 NaN       NaN   \n",
       "49   NaN                NaN                                 NaN       NaN   \n",
       "50   NaN                NaN                                 NaN       NaN   \n",
       "51   NaN                NaN                                 NaN       NaN   \n",
       "\n",
       "    SAT Total Score  ACT Participation  ACT English  ACT Math  ACT Reading  \\\n",
       "0               NaN               1.00          NaN       NaN          NaN   \n",
       "1               NaN               0.65          NaN       NaN          NaN   \n",
       "2               NaN               0.62          NaN       NaN          NaN   \n",
       "3               NaN               1.00          NaN       NaN          NaN   \n",
       "4               NaN                NaN          NaN       NaN          NaN   \n",
       "5               NaN               1.00          NaN       NaN          NaN   \n",
       "6               NaN                NaN          NaN       NaN          NaN   \n",
       "7               NaN                NaN          NaN       NaN          NaN   \n",
       "8               NaN                NaN          NaN       NaN          NaN   \n",
       "9               NaN               0.73          NaN       NaN          NaN   \n",
       "10              NaN               0.55          NaN       NaN          NaN   \n",
       "11              NaN               0.90          NaN       NaN          NaN   \n",
       "12              NaN                NaN          NaN       NaN          NaN   \n",
       "13              NaN               0.93          NaN       NaN          NaN   \n",
       "14              NaN                NaN          NaN       NaN          NaN   \n",
       "15              NaN               0.67          NaN       NaN          NaN   \n",
       "16              NaN               0.73          NaN       NaN          NaN   \n",
       "17              NaN               1.00          NaN       NaN          NaN   \n",
       "18              NaN               1.00          NaN       NaN          NaN   \n",
       "19              NaN                NaN          NaN       NaN          NaN   \n",
       "20              NaN                NaN          NaN       NaN          NaN   \n",
       "21              NaN                NaN          NaN       NaN          NaN   \n",
       "22              NaN                NaN          NaN       NaN          NaN   \n",
       "23              NaN               1.00          NaN       NaN          NaN   \n",
       "24              NaN               1.00          NaN       NaN          NaN   \n",
       "25              NaN               1.00          NaN       NaN          NaN   \n",
       "26              NaN               1.00          NaN       NaN          NaN   \n",
       "27              NaN               0.84          NaN       NaN          NaN   \n",
       "28              NaN               1.00          NaN       NaN          NaN   \n",
       "29              NaN                NaN          NaN       NaN          NaN   \n",
       "30              NaN                NaN          NaN       NaN          NaN   \n",
       "31              NaN               0.66          NaN       NaN          NaN   \n",
       "32              NaN                NaN          NaN       NaN          NaN   \n",
       "33              NaN               1.00          NaN       NaN          NaN   \n",
       "34              NaN               0.98          NaN       NaN          NaN   \n",
       "35              NaN               0.75          NaN       NaN          NaN   \n",
       "36              NaN               1.00          NaN       NaN          NaN   \n",
       "37              NaN                NaN          NaN       NaN          NaN   \n",
       "38              NaN                NaN          NaN       NaN          NaN   \n",
       "39              NaN                NaN          NaN       NaN          NaN   \n",
       "40              NaN               1.00          NaN       NaN          NaN   \n",
       "41              NaN               0.80          NaN       NaN          NaN   \n",
       "42              NaN               1.00          NaN       NaN          NaN   \n",
       "43              NaN                NaN          NaN       NaN          NaN   \n",
       "44              NaN               1.00          NaN       NaN          NaN   \n",
       "45              NaN                NaN          NaN       NaN          NaN   \n",
       "46              NaN                NaN          NaN       NaN          NaN   \n",
       "47              NaN                NaN          NaN       NaN          NaN   \n",
       "48              NaN               0.69          NaN       NaN          NaN   \n",
       "49              NaN               1.00          NaN       NaN          NaN   \n",
       "50              NaN               1.00          NaN       NaN          NaN   \n",
       "51              NaN                NaN          NaN       NaN          NaN   \n",
       "\n",
       "    ACT Science  ACT Composite Score  \n",
       "0           NaN                  NaN  \n",
       "1           NaN                  NaN  \n",
       "2           NaN                  NaN  \n",
       "3           NaN                  NaN  \n",
       "4           NaN                  NaN  \n",
       "5           NaN                  NaN  \n",
       "6           NaN                  NaN  \n",
       "7           NaN                  NaN  \n",
       "8           NaN                  NaN  \n",
       "9           NaN                  NaN  \n",
       "10          NaN                  NaN  \n",
       "11          NaN                  NaN  \n",
       "12          NaN                  NaN  \n",
       "13          NaN                  NaN  \n",
       "14          NaN                  NaN  \n",
       "15          NaN                  NaN  \n",
       "16          NaN                  NaN  \n",
       "17          NaN                  NaN  \n",
       "18          NaN                  NaN  \n",
       "19          NaN                  NaN  \n",
       "20          NaN                  NaN  \n",
       "21          NaN                  NaN  \n",
       "22          NaN                  NaN  \n",
       "23          NaN                  NaN  \n",
       "24          NaN                  NaN  \n",
       "25          NaN                  NaN  \n",
       "26          NaN                  NaN  \n",
       "27          NaN                  NaN  \n",
       "28          NaN                  NaN  \n",
       "29          NaN                  NaN  \n",
       "30          NaN                  NaN  \n",
       "31          NaN                  NaN  \n",
       "32          NaN                  NaN  \n",
       "33          NaN                  NaN  \n",
       "34          NaN                  NaN  \n",
       "35          NaN                  NaN  \n",
       "36          NaN                  NaN  \n",
       "37          NaN                  NaN  \n",
       "38          NaN                  NaN  \n",
       "39          NaN                  NaN  \n",
       "40          NaN                  NaN  \n",
       "41          NaN                  NaN  \n",
       "42          NaN                  NaN  \n",
       "43          NaN                  NaN  \n",
       "44          NaN                  NaN  \n",
       "45          NaN                  NaN  \n",
       "46          NaN                  NaN  \n",
       "47          NaN                  NaN  \n",
       "48          NaN                  NaN  \n",
       "49          NaN                  NaN  \n",
       "50          NaN                  NaN  \n",
       "51          NaN                  NaN  "
      ]
     },
     "execution_count": 25,
     "metadata": {},
     "output_type": "execute_result"
    }
   ],
   "source": [
    "high_participation = merged_copy[['SAT Participation', 'ACT Participation']] > .50\n",
    "merged_copy[high_participation]"
   ]
  },
  {
   "cell_type": "markdown",
   "metadata": {},
   "source": [
    "## Step 3: Visualize the data"
   ]
  },
  {
   "cell_type": "markdown",
   "metadata": {
    "collapsed": true
   },
   "source": [
    "##### 16. Using MatPlotLib and PyPlot, plot the distribution of the Rate columns for both SAT and ACT using histograms. (You should have two histograms. You might find [this link](https://matplotlib.org/users/pyplot_tutorial.html#working-with-multiple-figures-and-axes) helpful in organizing one plot above the other.) "
   ]
  },
  {
   "cell_type": "code",
   "execution_count": 26,
   "metadata": {
    "scrolled": false
   },
   "outputs": [
    {
     "data": {
      "image/png": "[encoded data removed]",
      "text/plain": [
       "<Figure size 432x288 with 2 Axes>"
      ]
     },
     "metadata": {},
     "output_type": "display_data"
    }
   ],
   "source": [
    "plt.figure(1)\n",
    "plt.subplot(211)\n",
    "plt.hist(merged_df['SAT Participation']);\n",
    "\n",
    "plt.subplot(212)\n",
    "plt.hist(merged_df['ACT Participation']);"
   ]
  },
  {
   "cell_type": "markdown",
   "metadata": {},
   "source": [
    "##### 17. Plot the Math(s) distributions from both data sets."
   ]
  },
  {
   "cell_type": "code",
   "execution_count": 27,
   "metadata": {},
   "outputs": [
    {
     "data": {
      "image/png": "[encoded data removed]",
      "text/plain": [
       "<Figure size 432x288 with 2 Axes>"
      ]
     },
     "metadata": {},
     "output_type": "display_data"
    }
   ],
   "source": [
    "plt.figure(1)\n",
    "plt.subplot(211)\n",
    "plt.hist(merged_df['SAT Math']);\n",
    "\n",
    "plt.subplot(212)\n",
    "plt.hist(merged_df['ACT Math']);"
   ]
  },
  {
   "cell_type": "markdown",
   "metadata": {},
   "source": [
    "##### 18. Plot the Verbal distributions from both data sets."
   ]
  },
  {
   "cell_type": "code",
   "execution_count": 28,
   "metadata": {},
   "outputs": [
    {
     "data": {
      "image/png": "[encoded data removed]",
      "text/plain": [
       "<Figure size 432x288 with 2 Axes>"
      ]
     },
     "metadata": {},
     "output_type": "display_data"
    }
   ],
   "source": [
    "plt.figure(1)\n",
    "plt.subplot(211)\n",
    "plt.hist(merged_df['Evidence-Based Reading and Writing']);\n",
    "\n",
    "plt.subplot(212)\n",
    "plt.hist(merged_df['ACT Reading']);"
   ]
  },
  {
   "cell_type": "markdown",
   "metadata": {},
   "source": [
    "##### 19. When we make assumptions about how data are distributed, what is the most common assumption?"
   ]
  },
  {
   "cell_type": "markdown",
   "metadata": {
    "collapsed": true
   },
   "source": [
    "Central limit theorem: sampling is random from an even population."
   ]
  },
  {
   "cell_type": "markdown",
   "metadata": {},
   "source": [
    "##### 20. Does this assumption hold true for any of our columns? Which?"
   ]
  },
  {
   "cell_type": "markdown",
   "metadata": {
    "collapsed": true
   },
   "source": [
    "This does not apply to any of our datasets because sampling was not random and not from the same population.\n",
    "Because each state was sampled, we cannot say that the sample was from an even population."
   ]
  },
  {
   "cell_type": "markdown",
   "metadata": {},
   "source": [
    "##### 21. Plot some scatterplots examining relationships between all variables."
   ]
  },
  {
   "cell_type": "code",
   "execution_count": 29,
   "metadata": {
    "scrolled": true
   },
   "outputs": [
    {
     "data": {
      "image/png": "[encoded data removed]",
      "text/plain": [
       "<Figure size 432x288 with 2 Axes>"
      ]
     },
     "metadata": {},
     "output_type": "display_data"
    }
   ],
   "source": [
    "plt.figure(1)\n",
    "plt.subplot(211)\n",
    "plt.scatter(x=merged_df['SAT Participation'], y=merged_df['ACT Participation']);\n",
    "\n",
    "plt.subplot(212)\n",
    "plt.scatter(x=merged_df['Evidence-Based Reading and Writing'], y=merged_df['ACT Reading']);"
   ]
  },
  {
   "cell_type": "code",
   "execution_count": 30,
   "metadata": {},
   "outputs": [
    {
     "data": {
      "image/png": "[encoded data removed]",
      "text/plain": [
       "<Figure size 432x288 with 2 Axes>"
      ]
     },
     "metadata": {},
     "output_type": "display_data"
    }
   ],
   "source": [
    "plt.figure(1)\n",
    "plt.subplot(211)\n",
    "plt.scatter(x=merged_df['Evidence-Based Reading and Writing'], y=merged_df['ACT Science']);\n",
    "\n",
    "plt.subplot(212)\n",
    "plt.scatter(x=merged_df['Evidence-Based Reading and Writing'], y=merged_df['ACT English']);"
   ]
  },
  {
   "cell_type": "code",
   "execution_count": 31,
   "metadata": {},
   "outputs": [
    {
     "data": {
      "image/png": "[encoded data removed]",
      "text/plain": [
       "<Figure size 432x288 with 2 Axes>"
      ]
     },
     "metadata": {},
     "output_type": "display_data"
    }
   ],
   "source": [
    "plt.figure(1)\n",
    "plt.subplot(211)\n",
    "plt.scatter(x=merged_df['SAT Math'], y=merged_df['ACT Math']);\n",
    "\n",
    "plt.subplot(212)\n",
    "plt.scatter(x=merged_df['SAT Total Score'], y=merged_df['ACT Composite Score']);"
   ]
  },
  {
   "cell_type": "markdown",
   "metadata": {},
   "source": [
    "##### 22. Are there any interesting relationships to note?"
   ]
  },
  {
   "cell_type": "markdown",
   "metadata": {},
   "source": [
    "Participation rates for SAT and ACT have a negative, linear relationship. SAT Evidence-Based Reading and Writing score and ACT Reading score also seem to have a negative relationship, but it is weak. It seems that all ACT testing categories, besides ACT Math, plotted with Evidence-Based Reading and Writing have a weak, negative linear relationship. When plotting both exams' math scores, I found that they also have a weak, negative relationship. In the end, when plotting total scores for both exams, I again found that they have a weak, negative relationship. "
   ]
  },
  {
   "cell_type": "markdown",
   "metadata": {},
   "source": [
    "##### 23. Create box plots for each variable. "
   ]
  },
  {
   "cell_type": "code",
   "execution_count": 32,
   "metadata": {},
   "outputs": [
    {
     "data": {
      "image/png": "[encoded data removed]",
      "text/plain": [
       "<Figure size 432x288 with 2 Axes>"
      ]
     },
     "metadata": {},
     "output_type": "display_data"
    }
   ],
   "source": [
    "plt.figure(1)\n",
    "plt.subplot(211)\n",
    "plt.boxplot(merged_df['SAT Participation'], vert=False);\n",
    "\n",
    "plt.subplot(212)\n",
    "plt.boxplot(merged_df['ACT Participation'], vert=False);"
   ]
  },
  {
   "cell_type": "code",
   "execution_count": 33,
   "metadata": {
    "scrolled": true
   },
   "outputs": [
    {
     "data": {
      "image/png": "[encoded data removed]",
      "text/plain": [
       "<Figure size 432x288 with 2 Axes>"
      ]
     },
     "metadata": {},
     "output_type": "display_data"
    }
   ],
   "source": [
    "plt.figure(1)\n",
    "plt.subplot(211)\n",
    "plt.boxplot(merged_df['Evidence-Based Reading and Writing'], vert=False);\n",
    "\n",
    "plt.subplot(212)\n",
    "plt.boxplot(merged_df['ACT Reading'], vert=False);"
   ]
  },
  {
   "cell_type": "code",
   "execution_count": 34,
   "metadata": {},
   "outputs": [
    {
     "data": {
      "image/png": "[encoded data removed]",
      "text/plain": [
       "<Figure size 432x288 with 2 Axes>"
      ]
     },
     "metadata": {},
     "output_type": "display_data"
    }
   ],
   "source": [
    "plt.figure(1)\n",
    "plt.subplot(211)\n",
    "plt.boxplot(merged_df['SAT Math'], vert=False);\n",
    "\n",
    "plt.subplot(212)\n",
    "plt.boxplot(merged_df['ACT Math'], vert=False);"
   ]
  },
  {
   "cell_type": "code",
   "execution_count": 35,
   "metadata": {
    "scrolled": true
   },
   "outputs": [
    {
     "data": {
      "image/png": "[encoded data removed]",
      "text/plain": [
       "<Figure size 432x288 with 2 Axes>"
      ]
     },
     "metadata": {},
     "output_type": "display_data"
    }
   ],
   "source": [
    "plt.figure(1)\n",
    "plt.subplot(211)\n",
    "plt.boxplot(merged_df['ACT Science'], vert=False);\n",
    "\n",
    "plt.subplot(212)\n",
    "plt.boxplot(merged_df['ACT English'], vert=False);"
   ]
  },
  {
   "cell_type": "code",
   "execution_count": 36,
   "metadata": {},
   "outputs": [
    {
     "data": {
      "text/html": [
       "<div>\n",
       "<style scoped>\n",
       "    .dataframe tbody tr th:only-of-type {\n",
       "        vertical-align: middle;\n",
       "    }\n",
       "\n",
       "    .dataframe tbody tr th {\n",
       "        vertical-align: top;\n",
       "    }\n",
       "\n",
       "    .dataframe thead th {\n",
       "        text-align: right;\n",
       "    }\n",
       "</style>\n",
       "<table border=\"1\" class=\"dataframe\">\n",
       "  <thead>\n",
       "    <tr style=\"text-align: right;\">\n",
       "      <th></th>\n",
       "      <th>SAT Participation</th>\n",
       "      <th>Evidence-Based Reading and Writing</th>\n",
       "      <th>SAT Math</th>\n",
       "      <th>SAT Total Score</th>\n",
       "      <th>ACT Participation</th>\n",
       "      <th>ACT English</th>\n",
       "      <th>ACT Math</th>\n",
       "      <th>ACT Reading</th>\n",
       "      <th>ACT Science</th>\n",
       "      <th>ACT Composite Score</th>\n",
       "    </tr>\n",
       "  </thead>\n",
       "  <tbody>\n",
       "    <tr>\n",
       "      <th>SAT Participation</th>\n",
       "      <td>1.000000</td>\n",
       "      <td>-0.874326</td>\n",
       "      <td>-0.855091</td>\n",
       "      <td>-0.867540</td>\n",
       "      <td>-0.841234</td>\n",
       "      <td>0.686889</td>\n",
       "      <td>0.710697</td>\n",
       "      <td>0.705352</td>\n",
       "      <td>0.653670</td>\n",
       "      <td>0.694748</td>\n",
       "    </tr>\n",
       "    <tr>\n",
       "      <th>Evidence-Based Reading and Writing</th>\n",
       "      <td>-0.874326</td>\n",
       "      <td>1.000000</td>\n",
       "      <td>0.987056</td>\n",
       "      <td>0.996661</td>\n",
       "      <td>0.716153</td>\n",
       "      <td>-0.461345</td>\n",
       "      <td>-0.486126</td>\n",
       "      <td>-0.488441</td>\n",
       "      <td>-0.422130</td>\n",
       "      <td>-0.470382</td>\n",
       "    </tr>\n",
       "    <tr>\n",
       "      <th>SAT Math</th>\n",
       "      <td>-0.855091</td>\n",
       "      <td>0.987056</td>\n",
       "      <td>1.000000</td>\n",
       "      <td>0.996822</td>\n",
       "      <td>0.682572</td>\n",
       "      <td>-0.420673</td>\n",
       "      <td>-0.420456</td>\n",
       "      <td>-0.442410</td>\n",
       "      <td>-0.365515</td>\n",
       "      <td>-0.417817</td>\n",
       "    </tr>\n",
       "    <tr>\n",
       "      <th>SAT Total Score</th>\n",
       "      <td>-0.867540</td>\n",
       "      <td>0.996661</td>\n",
       "      <td>0.996822</td>\n",
       "      <td>1.000000</td>\n",
       "      <td>0.701477</td>\n",
       "      <td>-0.441947</td>\n",
       "      <td>-0.454116</td>\n",
       "      <td>-0.466558</td>\n",
       "      <td>-0.394559</td>\n",
       "      <td>-0.445020</td>\n",
       "    </tr>\n",
       "    <tr>\n",
       "      <th>ACT Participation</th>\n",
       "      <td>-0.841234</td>\n",
       "      <td>0.716153</td>\n",
       "      <td>0.682572</td>\n",
       "      <td>0.701477</td>\n",
       "      <td>1.000000</td>\n",
       "      <td>-0.843501</td>\n",
       "      <td>-0.861114</td>\n",
       "      <td>-0.866620</td>\n",
       "      <td>-0.836595</td>\n",
       "      <td>-0.858134</td>\n",
       "    </tr>\n",
       "    <tr>\n",
       "      <th>ACT English</th>\n",
       "      <td>0.686889</td>\n",
       "      <td>-0.461345</td>\n",
       "      <td>-0.420673</td>\n",
       "      <td>-0.441947</td>\n",
       "      <td>-0.843501</td>\n",
       "      <td>1.000000</td>\n",
       "      <td>0.967803</td>\n",
       "      <td>0.985999</td>\n",
       "      <td>0.980042</td>\n",
       "      <td>0.990856</td>\n",
       "    </tr>\n",
       "    <tr>\n",
       "      <th>ACT Math</th>\n",
       "      <td>0.710697</td>\n",
       "      <td>-0.486126</td>\n",
       "      <td>-0.420456</td>\n",
       "      <td>-0.454116</td>\n",
       "      <td>-0.861114</td>\n",
       "      <td>0.967803</td>\n",
       "      <td>1.000000</td>\n",
       "      <td>0.979630</td>\n",
       "      <td>0.986929</td>\n",
       "      <td>0.990451</td>\n",
       "    </tr>\n",
       "    <tr>\n",
       "      <th>ACT Reading</th>\n",
       "      <td>0.705352</td>\n",
       "      <td>-0.488441</td>\n",
       "      <td>-0.442410</td>\n",
       "      <td>-0.466558</td>\n",
       "      <td>-0.866620</td>\n",
       "      <td>0.985999</td>\n",
       "      <td>0.979630</td>\n",
       "      <td>1.000000</td>\n",
       "      <td>0.988034</td>\n",
       "      <td>0.995069</td>\n",
       "    </tr>\n",
       "    <tr>\n",
       "      <th>ACT Science</th>\n",
       "      <td>0.653670</td>\n",
       "      <td>-0.422130</td>\n",
       "      <td>-0.365515</td>\n",
       "      <td>-0.394559</td>\n",
       "      <td>-0.836595</td>\n",
       "      <td>0.980042</td>\n",
       "      <td>0.986929</td>\n",
       "      <td>0.988034</td>\n",
       "      <td>1.000000</td>\n",
       "      <td>0.995129</td>\n",
       "    </tr>\n",
       "    <tr>\n",
       "      <th>ACT Composite Score</th>\n",
       "      <td>0.694748</td>\n",
       "      <td>-0.470382</td>\n",
       "      <td>-0.417817</td>\n",
       "      <td>-0.445020</td>\n",
       "      <td>-0.858134</td>\n",
       "      <td>0.990856</td>\n",
       "      <td>0.990451</td>\n",
       "      <td>0.995069</td>\n",
       "      <td>0.995129</td>\n",
       "      <td>1.000000</td>\n",
       "    </tr>\n",
       "  </tbody>\n",
       "</table>\n",
       "</div>"
      ],
      "text/plain": [
       "                                    SAT Participation  \\\n",
       "SAT Participation                            1.000000   \n",
       "Evidence-Based Reading and Writing          -0.874326   \n",
       "SAT Math                                    -0.855091   \n",
       "SAT Total Score                             -0.867540   \n",
       "ACT Participation                           -0.841234   \n",
       "ACT English                                  0.686889   \n",
       "ACT Math                                     0.710697   \n",
       "ACT Reading                                  0.705352   \n",
       "ACT Science                                  0.653670   \n",
       "ACT Composite Score                          0.694748   \n",
       "\n",
       "                                    Evidence-Based Reading and Writing  \\\n",
       "SAT Participation                                            -0.874326   \n",
       "Evidence-Based Reading and Writing                            1.000000   \n",
       "SAT Math                                                      0.987056   \n",
       "SAT Total Score                                               0.996661   \n",
       "ACT Participation                                             0.716153   \n",
       "ACT English                                                  -0.461345   \n",
       "ACT Math                                                     -0.486126   \n",
       "ACT Reading                                                  -0.488441   \n",
       "ACT Science                                                  -0.422130   \n",
       "ACT Composite Score                                          -0.470382   \n",
       "\n",
       "                                    SAT Math  SAT Total Score  \\\n",
       "SAT Participation                  -0.855091        -0.867540   \n",
       "Evidence-Based Reading and Writing  0.987056         0.996661   \n",
       "SAT Math                            1.000000         0.996822   \n",
       "SAT Total Score                     0.996822         1.000000   \n",
       "ACT Participation                   0.682572         0.701477   \n",
       "ACT English                        -0.420673        -0.441947   \n",
       "ACT Math                           -0.420456        -0.454116   \n",
       "ACT Reading                        -0.442410        -0.466558   \n",
       "ACT Science                        -0.365515        -0.394559   \n",
       "ACT Composite Score                -0.417817        -0.445020   \n",
       "\n",
       "                                    ACT Participation  ACT English  ACT Math  \\\n",
       "SAT Participation                           -0.841234     0.686889  0.710697   \n",
       "Evidence-Based Reading and Writing           0.716153    -0.461345 -0.486126   \n",
       "SAT Math                                     0.682572    -0.420673 -0.420456   \n",
       "SAT Total Score                              0.701477    -0.441947 -0.454116   \n",
       "ACT Participation                            1.000000    -0.843501 -0.861114   \n",
       "ACT English                                 -0.843501     1.000000  0.967803   \n",
       "ACT Math                                    -0.861114     0.967803  1.000000   \n",
       "ACT Reading                                 -0.866620     0.985999  0.979630   \n",
       "ACT Science                                 -0.836595     0.980042  0.986929   \n",
       "ACT Composite Score                         -0.858134     0.990856  0.990451   \n",
       "\n",
       "                                    ACT Reading  ACT Science  \\\n",
       "SAT Participation                      0.705352     0.653670   \n",
       "Evidence-Based Reading and Writing    -0.488441    -0.422130   \n",
       "SAT Math                              -0.442410    -0.365515   \n",
       "SAT Total Score                       -0.466558    -0.394559   \n",
       "ACT Participation                     -0.866620    -0.836595   \n",
       "ACT English                            0.985999     0.980042   \n",
       "ACT Math                               0.979630     0.986929   \n",
       "ACT Reading                            1.000000     0.988034   \n",
       "ACT Science                            0.988034     1.000000   \n",
       "ACT Composite Score                    0.995069     0.995129   \n",
       "\n",
       "                                    ACT Composite Score  \n",
       "SAT Participation                              0.694748  \n",
       "Evidence-Based Reading and Writing            -0.470382  \n",
       "SAT Math                                      -0.417817  \n",
       "SAT Total Score                               -0.445020  \n",
       "ACT Participation                             -0.858134  \n",
       "ACT English                                    0.990856  \n",
       "ACT Math                                       0.990451  \n",
       "ACT Reading                                    0.995069  \n",
       "ACT Science                                    0.995129  \n",
       "ACT Composite Score                            1.000000  "
      ]
     },
     "execution_count": 36,
     "metadata": {},
     "output_type": "execute_result"
    }
   ],
   "source": [
    "merged_df.corr()"
   ]
  },
  {
   "cell_type": "markdown",
   "metadata": {},
   "source": [
    "##### BONUS: Using Tableau, create a heat map for each variable using a map of the US. "
   ]
  },
  {
   "cell_type": "code",
   "execution_count": null,
   "metadata": {},
   "outputs": [],
   "source": []
  },
  {
   "cell_type": "markdown",
   "metadata": {},
   "source": [
    "## Step 4: Descriptive and Inferential Statistics"
   ]
  },
  {
   "cell_type": "markdown",
   "metadata": {},
   "source": [
    "##### 24. Summarize each distribution. As data scientists, be sure to back up these summaries with statistics. (Hint: What are the three things we care about when describing distributions?)"
   ]
  },
  {
   "cell_type": "markdown",
   "metadata": {
    "collapsed": true
   },
   "source": [
    "Three important aspects of distribution include: centrality (mean, median, mode), spread, shape.\n",
    "SAT participation distribution is skewed to the right while ACT participation distribution is skewed to the left.\n",
    "The spread for the SAT participation distribution is: range = 20%-100%, standard deviation = .35, 25th quartile = 40%, and 75th quartile = 66%. The spread for the ACT participation distribution is: range = 8%-100%, standard deviation = .32, 25th quartile = 31%, and 75th quartile = 100%. The centrality for SAT participation is: mean = 39.80%, median = 38%. The centrality for ACT participation is: mean = 65.25%, median = 69%. \n",
    "\n",
    "For both math distributions, there is some skewness (slightly skewed to the right). The spread for SAT math scores is: range = 468-651, standard deviation = 47.12, 25th quartile = 523.50, and 75th quartile = 599. The spread for ACT math scores is: range = 18-25.30, standard deviation = 1.98, 25th quartile = 19.40, and 75th quartile = 23.10. The centrality for SAT math scores is: mean = 556.88 and median = 548. The centrality for ACT math scores is: mean = 21.18 and median = 20.90.\n",
    "\n",
    "For both verbal distributions, there is slight skewness to the left. The spread for Evidence-Based Reading and Writing scores is: range = 482-644, standard deviation = 45.67, 25th quartile = 533.50, and 75th quartile = 613. The spread for ACT reading is: range = 18.10-26, standard deviation = 2.07, 25th quartile = 20.45, and 75th quartile = 24.15. The centrality for Evidence-Based Reading and Writing scores is: mean = 569.12 and median = 559. The centrality for ACT reading scores is: mean = 22.01 and median = 21.80."
   ]
  },
  {
   "cell_type": "markdown",
   "metadata": {},
   "source": [
    "##### 25. Summarize each relationship. Be sure to back up these summaries with statistics."
   ]
  },
  {
   "cell_type": "markdown",
   "metadata": {
    "collapsed": true
   },
   "source": [
    "Participation rates for SAT and ACT have a negative, linear relationship. In other words, while SAT participation was high, ACT participation was low and vice versa. This means that in most states, while many were taking the SAT's, very few people were taking the ACT's and vice versa. \n",
    "\n",
    "For the different subjects of the exams, the scores for evidence-based reading and writing had a weak, negative linear relationship with all verbal categories of the ACT (english, reading, and science). Both math scores also had a weak, negative linear relationship. In other words, when compared with each other, all scores from both exams have opposing effects on each other: when a student scores high on the SAT math section, they seem to score lower on the ACT math section. Therefore, when looking at the correlation between the total scores of both exams (-.4178), we can say that if a student takes both exams, then he/she would score high on one and low on the other."
   ]
  },
  {
   "cell_type": "markdown",
   "metadata": {},
   "source": [
    "##### 26. Execute a hypothesis test comparing the SAT and ACT participation rates. Use $\\alpha = 0.05$. Be sure to interpret your results."
   ]
  },
  {
   "cell_type": "markdown",
   "metadata": {},
   "source": [
    "H0: The mean difference between SAT and ACT participation rates is zero.\n",
    "\n",
    "H1: The mean difference between SAT and ACT participation rates is not zero."
   ]
  },
  {
   "cell_type": "code",
   "execution_count": 37,
   "metadata": {},
   "outputs": [
    {
     "data": {
      "text/plain": [
       "(3.8085778908170544, 0.00024134203698662353)"
      ]
     },
     "execution_count": 37,
     "metadata": {},
     "output_type": "execute_result"
    }
   ],
   "source": [
    "experimental = merged_df['ACT Participation']\n",
    "control = merged_df['SAT Participation']\n",
    "\n",
    "t_stats, p_value = stats.ttest_ind(experimental, control)\n",
    "t_stats, p_value"
   ]
  },
  {
   "cell_type": "markdown",
   "metadata": {},
   "source": [
    "The p-value (.0002) is the probability that, given there is a 0.0 true difference in participation rates between experimental and control conditions, I was able to calculate a t-statistic at least as extreme as 3.8085 from a random sample of data from the true population. The p-value is less than .05, so we have sufficient evidence to reject the null hypothesis. This means that there is a statistically significant difference in means for participation rates for both exams."
   ]
  },
  {
   "cell_type": "markdown",
   "metadata": {},
   "source": [
    "##### 27. Generate and interpret 95% confidence intervals for SAT and ACT participation rates."
   ]
  },
  {
   "cell_type": "code",
   "execution_count": 38,
   "metadata": {
    "scrolled": false
   },
   "outputs": [
    {
     "data": {
      "text/plain": [
       "(-0.29336965497025674, 1.0894476549702568)"
      ]
     },
     "execution_count": 38,
     "metadata": {},
     "output_type": "execute_result"
    }
   ],
   "source": [
    "SAT_confidence_interval = stats.norm.interval(.95, 0.398039, 0.352766)\n",
    "SAT_confidence_interval"
   ]
  },
  {
   "cell_type": "code",
   "execution_count": 39,
   "metadata": {},
   "outputs": [
    {
     "data": {
      "text/plain": [
       "(0.022600895656950337, 1.2824971043430498)"
      ]
     },
     "execution_count": 39,
     "metadata": {},
     "output_type": "execute_result"
    }
   ],
   "source": [
    "ACT_confidence_interval = stats.norm.interval(.95, 0.652549, 0.321408)\n",
    "ACT_confidence_interval"
   ]
  },
  {
   "cell_type": "markdown",
   "metadata": {},
   "source": [
    "##### 28. Given your answer to 26, was your answer to 27 surprising? Why?"
   ]
  },
  {
   "cell_type": "markdown",
   "metadata": {},
   "source": [
    "It is not surprising that the confidence intervals for both participation rates are different. This is due to the fact that there is a statistically significant difference in means for both exams' participation rates. If the null hypothesis was not rejected, then both means would be the same, resulting in similar confidence intervals."
   ]
  },
  {
   "cell_type": "markdown",
   "metadata": {},
   "source": [
    "##### 29. Is it appropriate to generate correlation between SAT and ACT math scores? Why?"
   ]
  },
  {
   "cell_type": "markdown",
   "metadata": {},
   "source": [
    "It is appropriate to generate correlation between these scores because these tests have convergent validity. In other words, both tests measure the same thing. By looking at the correlation of these two scores, one can say that there is a valid, negative linear relationship."
   ]
  },
  {
   "cell_type": "markdown",
   "metadata": {},
   "source": [
    "##### 30. Suppose we only seek to understand the relationship between SAT and ACT data in 2017. Does it make sense to conduct statistical inference given the data we have? Why?"
   ]
  },
  {
   "cell_type": "markdown",
   "metadata": {},
   "source": [
    "We cannot use these dataframes to make determining statistical inferences because certain subjects of the exams cannot be compared. For example, comparing evidence-based reading and writing scores from the SAT with ACT science scores would not show a coherent relationship. They are measuring different things. The only section that can really be measured together is the math part of the exams. We can understand some relationships between these dataframes, but not a wholistic statement that defines a direct correlation."
   ]
  }
 ],
 "metadata": {
  "anaconda-cloud": {},
  "kernelspec": {
   "display_name": "Python 3",
   "language": "python",
   "name": "python3"
  },
  "language_info": {
   "codemirror_mode": {
    "name": "ipython",
    "version": 3
   },
   "file_extension": ".py",
   "mimetype": "text/x-python",
   "name": "python",
   "nbconvert_exporter": "python",
   "pygments_lexer": "ipython3",
   "version": "3.6.5"
  }
 },
 "nbformat": 4,
 "nbformat_minor": 1
}
